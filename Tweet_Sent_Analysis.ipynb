{
 "cells": [
  {
   "cell_type": "code",
   "execution_count": 13,
   "metadata": {},
   "outputs": [],
   "source": [
    "#A notebook for Tweet Sentiment Analysis by Jonathan Ivy"
   ]
  },
  {
   "cell_type": "code",
   "execution_count": 35,
   "metadata": {},
   "outputs": [],
   "source": [
    "import tweepy\n",
    "import re\n",
    "import pickle\n",
    "import matplotlib.pyplot as plt\n",
    "import numpy as np"
   ]
  },
  {
   "cell_type": "code",
   "execution_count": 15,
   "metadata": {},
   "outputs": [],
   "source": [
    "from tweepy import OAuthHandler #does the job of authenticating our client machine with Twitter server"
   ]
  },
  {
   "cell_type": "code",
   "execution_count": 16,
   "metadata": {},
   "outputs": [],
   "source": [
    "#Now initialize all keys we need, and they should be entered in the form of strings"
   ]
  },
  {
   "cell_type": "code",
   "execution_count": 17,
   "metadata": {},
   "outputs": [],
   "source": [
    "consumer_key = 'fyYq7oF0KxkUdeI2zwGCKV8GQ'\n",
    "consumer_secret = 'Avne5z6Jo2ycAvWA5ZgLqEyz6rDIC9dp2OkIQpQg4zpOZvpG4f'\n",
    "access_token = '3233029615-v2xFc4THm1pXk6OR5DhqXdIjEc8RdJzQNscqgZ1'\n",
    "access_secret='Lq8kBfo3k1BtZW6lFSah06MZhqV6eOyYFeNsguSGAjW1E'"
   ]
  },
  {
   "cell_type": "code",
   "execution_count": 18,
   "metadata": {},
   "outputs": [],
   "source": [
    "#Authenticate Client, because every App we build will have unique keys and secrets\n",
    "auth = OAuthHandler(consumer_key,consumer_secret)"
   ]
  },
  {
   "cell_type": "code",
   "execution_count": 19,
   "metadata": {},
   "outputs": [],
   "source": [
    "auth.set_access_token(access_token,access_secret)"
   ]
  },
  {
   "cell_type": "code",
   "execution_count": 20,
   "metadata": {},
   "outputs": [],
   "source": [
    "#set our search tokens\n",
    "args = ['Mask']"
   ]
  },
  {
   "cell_type": "code",
   "execution_count": 21,
   "metadata": {},
   "outputs": [],
   "source": [
    "api = tweepy.API(auth,timeout=10)#if we don't find any tweets, after 10 seconds API stops looking"
   ]
  },
  {
   "cell_type": "code",
   "execution_count": 22,
   "metadata": {},
   "outputs": [],
   "source": [
    "#Declare a list\n",
    "list_tweets = []"
   ]
  },
  {
   "cell_type": "code",
   "execution_count": 24,
   "metadata": {},
   "outputs": [],
   "source": [
    "query = args [0]"
   ]
  },
  {
   "cell_type": "code",
   "execution_count": 25,
   "metadata": {},
   "outputs": [],
   "source": [
    "if len(args) == 1:\n",
    "    for status in tweepy.Cursor (api.search, q=query+\"-filter:retweets\", lang='en', result_type = 'recent', tweet_mode='extended').items(100):\n",
    "        list_tweets.append(status.full_text)#status is a JSON object in Python\n",
    "    #cursor is another library to fetch tweets"
   ]
  },
  {
   "cell_type": "code",
   "execution_count": 28,
   "metadata": {},
   "outputs": [
    {
     "data": {
      "text/plain": [
       "[\"We can't wait to see fans back at LaVell Edwards Stadium tonight!!\\n\\nRemember:\\n• Mask up\\n• Social distance\\n• Sit in your assigned seats\\n\\n#BYUFOOTBALL #GoCougs https://t.co/gvhEwvyCUF\",\n",
       " \"@Arlecchinoswart @radleybalko I will generally wear a mask in public,  not because I think it significantly reduces my or anyone else's risk of COVID, but as a courtesy to the fearful. Impose a mandate and I will resist.\",\n",
       " 'see THIS girl RESPECTS him and wore a mask https://t.co/YKeOseRmun',\n",
       " '@bostonjsteven @DJSteveLawler @realDonaldTrump Says the deficiente, questioning my patriotism, while he is probably spreading his COVID-19 to other Americans. Only because he can’t figure which end to use when putting on a mask.',\n",
       " \"@vancouverboomer Oh they are, it's just that some people get on the bus with a mask and then take it off. This asshole was wearing a mask until he overheard a conversation that I was having and then took it off and started in about how they aren't necessary since covid is all a lie.\",\n",
       " 'PUT YOUR MASK ON RIGHT! PUT YOUR MASK ON RIGHT! put it on correctly please.',\n",
       " '@mjs_DC @ElieNYC Ginni Thomas should be wearing a mask. She’s a prime candidate to be intubated - overweight and over 60...',\n",
       " '@tchalametupdate @RealChalamet good girl w the mask',\n",
       " '@commonsensePGH @IngrahamAngle SO many Republicans refuse to wear masks. Open things up and wear a damn mask. Increase production of N95’s until a vaccine is available. Invest in rapid testing. Trump lost me with his mask garbage. He downplayed everything.',\n",
       " '@sheismarose Good girl (Kyle voice) \\nI mean you for cropping the girl with no mask of course!',\n",
       " '@Khaosbutterfly @heavenlyrage @Sally71935745 Also, wear a mask AND social distance',\n",
       " 'why must fans always take their mask off when they take a picture with timothee',\n",
       " \"honestly as stupid and dumb looking as this is i'd much rather wear this than a mask that makes me feel like i can barely breathe https://t.co/o6KmntTt3M\",\n",
       " \"There are 10 days left to vote. Mask up and vote early. \\n\\nIf you are mailing your ballot, today is the recommended day to put that ballot in the mail. \\n\\nLet's repudiate this administration and their collaborators who have allowed 220,000 Americans to die. \\n\\n#PoliticalArt #Vote https://t.co/1iuYgY3EZm\",\n",
       " \"It's better to wear a mask than to be on a ventilator. #VOTE!\",\n",
       " '@krogerco \\n@kroger \\n10/23/2020 03:49PM\\nRcpt # 641 6 113 105\\n\\nCashier ALMA  merits promotion &amp; raise.\\n\\nCashier aisle 5 same time, doing NOTHING nobody in her line bc her mask was pulled down &amp; her nose was hanging out. Cashier Alma had a very long line &amp; was masked properly. https://t.co/Kh4WbBeHQR',\n",
       " 'okay finally somebody wearing their mask properly https://t.co/KdmrSW0tzJ',\n",
       " 'just your friendly reminder to wear your mask',\n",
       " '@Kevin_McKernan Non woven and woven fabrics are also typically hydrophilic and will absorb droplets instead of dispersing them. The primary mechanism by which the cloth mask prevents dispersion of aersolization is a slight pressure barrier detracting aerodynamics.',\n",
       " \"Heading to @cupcakesottawa to get this treat? 👇\\nMake sure you have the essentials :\\n✅ Phone\\n✅ Wallet\\n✅ Keys\\n✅ Mask\\n\\nDon't forget to bring your mask. Let's encourage everyone to wear a masks outdoors to help stay #COVIDwise when visiting local businesses. @ottawahealth https://t.co/O5nzyHe3M0\",\n",
       " '@mchooyah As “madness” as leading a Corona party to Sturgis, or making fun of a mask mandate on an Airline? I thought you were pro-popo',\n",
       " 'Good morning people of Idaho!! WEAR A MASK YOU ARE A PART OF THE PROBLEM!! \\n\\nGROW UP! https://t.co/0TBjUOh119',\n",
       " '@BigIndianGyasi I also wonder if the person driving while wearing a mask might be concerned about being pulled over and not wanting to have to move their hands to put on a mask while a potentially twitchy cop walks up?',\n",
       " '@JOONCLlT BUT LIKE NO ONE ASKED THEM WHY THEY WERENT WEARING A MASK THEY JUST KEPT LIKE DOING THEIR THING',\n",
       " '@LynchDiana @GovMurphy He has, wear a mask and social distance. Too many people think it is ok to have their nose uncovered.',\n",
       " 'a mask THANK YOU https://t.co/luvbJdvJ7l',\n",
       " '@davidd551 @bjdoor @Dejan_Kovacevic I’ve never tried to hide. Perhaps you missed my first response to Dejan where I said, “I support wearing a mask.”',\n",
       " '@Teamof0ne @bopinion How does wearing masks give government control? Also, if it was about “big pharma money” they would be pushing NOT to wear a mask. That way, more people get sick, and more pharmaceuticals are sold.',\n",
       " '@WhiteHouse @FLOTUS Well if your inviting all these people you better put your mask on.  I can’t wait to see how many people Don’t show up.',\n",
       " 'Covidiots~\\n\\n@GovBillLee #TNGOP #tnleg\\n\\nTHIS IS YOUR FAULT - We need a \\n\\nSTATE-WIDE MASK MANDATE~ https://t.co/t0sOnBJsJ2',\n",
       " '@WHAS11 This mask fascination will likely fade away after the election.',\n",
       " 'Okay wait, another tie with German literature. \\nThe Bremen Mask in Majora\\'s Mask is a reference to \"Die Bremer Stadtmusikanten\" by the Brothers Grimm! German literature everywhere! https://t.co/KvOlwngn0O',\n",
       " 'I can’t wait for DeWine to politely remind everyone that Ohio’s COVID cases are skyrocketing and to tell people to pretty-please-with-sugar-on-top wear a mask.',\n",
       " '@CanuckClay Told you that is why your wife made your new mask.',\n",
       " '@Darinstrauss @Michigangurlie @AlexBerenson No they are not! Stop perpetuating this lie. Mask mandates are everywhere and they are doing nothing. Cases skyrocketing all over The place. Masks have shown to prevent nothing.',\n",
       " 'While people all over the world are protesting to stay alive in #EndSarsProtests, here we have anti-mask protesters in Oxford, marching for the right to catch and spread Covid.\\nWonders shall never end. https://t.co/I6LtplAjRN',\n",
       " '@SenSchumer 225,000+ deaths! Trump is negligent and a public health threat. The fact that Fauci is finally asking for a national mask mandate 8 months later is also negligent. Terrible public health policy that should be considered criminal.',\n",
       " '@ComradeHirst I understand that Simon Gray is currently doing a leaflet drop in the villages and hamlets of south east Holderness: NO LOCKDOWN NO TEST NO TRACE NO MASK NO VAX',\n",
       " '@NoahHaber Agreed. I was on team mask before it was popular but it was always “the weak evidence suggests benefit, slightly more likely than not” and not “masks are magic”',\n",
       " 'your pic coming out good is not worth u not wearing a mask with i’m getting one of ur idols?? do better https://t.co/32xZF7yT0f',\n",
       " '@iam_tct That guy with the mask checking you out',\n",
       " '@AlexBerenson If I could stop your overdose or car death by wearing a mask, I wouldn’t. If I could stop mine, I would.   But I’m sure he’s a better person than I am.',\n",
       " 'OUTRAGEOUS: A Large Danish Study on Mask Wearing Is Being Delayed by Publishers of Major Medical Journals - Therefore Preventing the Results from Being Made Public via @gatewaypundit https://t.co/ygOAhuer5n',\n",
       " '@tedlieu What happened to our freedom from fear of gun violence? What happened to our freedom to post a yard sign of our choice without fear of violence? What happened to the freedom to walk our streets without being abused for wearing a mask to protect the elderly? @RepClayHiggins',\n",
       " '@eilishexpensive i wear a mask out in public at all times”',\n",
       " '@jedrice1 @GregAbbott_TX Just stop thinking about yourself.   Wear a mask for the essential workers who just maybe taking care of you in the hospital.  WEAR A MASK for someone else!',\n",
       " 'This make-up and mask combo is getting old now',\n",
       " 'I cannot believe that our local @DollarGeneral does not enforce customers to wear a mask. Even the employees wear them around their chin. All other stores do a good job.',\n",
       " 'the sexual tension between me and bitch slapping the middle aged white man in a blue lives matter mask (that is not covering his nose)',\n",
       " \"@boringcereal I only happens 1 in every 40 or so times for me. \\n\\nI have multiple mask types and multiple glasses types. \\n\\nI've thot about like making the effort to figure out which combinations are more prone to fogging... but 🤷🏼\\u200d♂️\",\n",
       " 'More great visualization, this time correlating mask usage against population fractions who know people with COVID-19 symptoms. Given how wildly different population densities are in these states, the consistent trend is quite striking! Stay safe, all.😷 https://t.co/lk4OVG62d2',\n",
       " '@steveda45342966 @FOXLA @TomiLahren But joe wants the mask and the restrictions... how does that work? 🤦🏻\\u200d♀️🤣 You using a hypothetical nonsensical thought to excuse trumps careless response to over 200,000 dead people is just plain stupid. Make it make sense.',\n",
       " 'Everyone has on a mask',\n",
       " '@vickiringer @JCI_JohnEvans They told us that requiring voters to wear a mask can turn into a form of discrimination . (The look on my brown face) 🤬This is why a national mask mandate is needed. Mayors, county and city council members are only interpreting this moment through their local strategies',\n",
       " '@DrTomFrieden if your sick during do not go out mask or not',\n",
       " '#BuckeyeNation where can I get one of them face mask with the stickers and stipe....',\n",
       " '@ron_fournier Wear a mask. Amen.',\n",
       " \"@RedWhtBlue @Acyn You are very kind. It's true-I'm 54 in chronological years. I'm edging up Methuselah on how old my body feels on the bad days, though.\\n\\nWear a mask &amp; protect yourselves and each other.\\nThis COVID thing is predatory. If it doesn't kill you, it might make you wish you were dead. https://t.co/DFWecuuXli\",\n",
       " 'My dad has mobility issues and has a housekeeper come by every two weeks to help clean. She never wore a mask. She just tested positive on the 21st and was last in his home on the 19th. He is 70 years old. He got tested yesterday and I am anxiously awaiting his results.',\n",
       " '@NYGovCuomo Your nursing homes executive order was a total lack of respect and common sense. Which says you say listen to the science and de fraucvi is the main mask pusher and thinks you did a gear job. No I will not trust his .”science”',\n",
       " '@TomatoNation Cute mask!',\n",
       " '@JackPosobiec Coughs without a mask into his bare hand for emphasis. Was there a word in that cough? ...ck! Also Chump for Trump will be someone’s Twitter handle by nightfall.',\n",
       " '@thehill \"But I\\'ll be an *American* President!\" I\\'d say his mask slipped but he isn\\'t wearing one.',\n",
       " '@NYGovCuomo Respect mask workers.  Poll up.',\n",
       " '@Dejan_Kovacevic @littleballofha1 Per the CDC 85% of COVID-19 patients that died wore mask! What’s garbage is shaming people because of your personal beliefs! The bottom line is over 99% of those infected recover! Stop the madness &amp; stop politicizing it!',\n",
       " '83,000+ cases in one day but y’all won’t wear a mask',\n",
       " 'Serious question: if all players, coaches, refs, crew, and attendees had to test negative with #COVID19, why is there a need to wear a mask on the sideline? #CFB #BigTenIsBack',\n",
       " 'fucking just wear a mask',\n",
       " 'The amount of anti maskers on Twitter makes me want to vomit. There’s no solution anymore, I’m over it. Y’all don’t wear mask for the same reason y’all don’t wear underwear, ya shit stinks and u don’t wanna smell it.',\n",
       " '@Dejan_Kovacevic I wear glasses. Every breath I take my glasses dog. You’re telling me the mask is blocking anything?',\n",
       " '@eilishexpensive i wear a mask out in public at all times”',\n",
       " 'Sorry old person In a hotspot that you’re offended I don’t want to get in an elevator with you without a mask 🙃🙃🙃🙃🙃',\n",
       " \"@SkepBy @NBCNews You act like your opinion matters to me LOL. You are literally a bad person and everything that's wrong with society. I hope you get the help you deserve but I think your mask is cutting off too much oxygen to your brain.\",\n",
       " '@Persistence2017 @apoorva_nyc @stevesilberman Selfish. Your wearing a mask protects others.',\n",
       " 'The only place you should be going is your ballot drop off location or your polling spot. VOTE IN YOUR MASK. STAY AT LEAST 6 FEET AWAY FROM EVERYONE ELSE. Then go the fuck home. #vote #VoteEarly #Vote2020  #COVID19',\n",
       " '@JudyRincon2 @PattyArquette @ABC @YankeeMike015 We also have vaccines, antibiotics and other medical and hygiene advancements. Masks are proven to minimize spread. I rarely go out because I am on Chemo, but when I do, I double-mask because of selfish idiot anti-maskers. I don’t want to be a Covid fatality. Cancer is bad enough',\n",
       " '@meventing Did they think everyone was wearing a mask because they enjoyed it? Sounds like a recipe for violence.',\n",
       " '@Acyn He wants sun block but not a mask.',\n",
       " \"@BlackroseBisha1 Yea pokemon is dark. Not to mention the HUMANS who die and become ghost pokemon. Like Yamask who Carrie's around a mask of their face when they were alive. That's horrifying\",\n",
       " 'As Governor Resists Mask Mandate, Iowans Sour on the GOP https://t.co/1ZHyPfmVZw via @YahooNews',\n",
       " \"@joshshepperd i'll probably be at retirement age by then, so i guess put my mask collection into storage.\",\n",
       " 'The options are not either a complete shut down or open the country and business as usual. First, we must take this virus seriously. Second, wear a mask, watch your distance, and wash your hands. 3/6',\n",
       " \"@ClarkeMicah Outside mask wearing will come. With the second wave of the virus? Then the vaccine, we will all have to have or we won't have a life. Someone stop the great reset before it's to late!\",\n",
       " '@TrumpWarRoom Sounds like Joe has a touch of the Wuhan Flu........better put your mask on.',\n",
       " '@SteveSchmidt9 And does this also apply to sex? Mask and keep 6 feet apart? I thought Fauci said sex was ok.',\n",
       " 'Wear your mask!!! https://t.co/Iac63ozDyU',\n",
       " \"@IAmAlanWalker You've already warned us to wear mask😂...\\nBTW Loads of love...\",\n",
       " \"@mjarbo We've got a big No Mask No Servive sign up on our doors at work.\",\n",
       " 'gotta stay protected, wear ya mask https://t.co/ki27x4dJHa',\n",
       " '@StevenStaten15 @HuntJennifer_ @wxyzdetroit You like to say \"scared\", I like to say responsible citizen. When you know better you do better. I am a healthy adult but I know a fellow citizen may have health issues, out of concern for them I will wear a mask. I won\\'t be some whiney adolescent crying about a peice of cloth! https://t.co/Vpr9PmZOAe',\n",
       " '@WalesOnline No face mask, a criminal &amp; also a 🤡🤡🤡 - lock him up',\n",
       " \"Veronica, remember she's delivered a few bags of vegetables to people who were cocooning? For that test Niall McC. No mask, no gloves, not a care for the lives of those vulnerable people. #Deesgusting. https://t.co/S5zIR6Yjtr\",\n",
       " '@_TrevorDylan @HIDEO_KOJIMA_EN @KojiPro2015_EN @Kojima_Hideo @wwwbigbaldhead @NicolasWR @teejaye84 @mslindsaywagner @TroyBakerVA I need this mask',\n",
       " \"I wish it wasn't so cold.\\nI'm tired of waiting on getting over being sick to work out more.\\nI want to go for a walk or a jog,even though it's not fun in the mask.\\n\\nI have a treadmill though.\\nSo I will get on that later tonight I guess.\",\n",
       " 'Hey @kroger, what’s up with the shitty mask compliance at King Soopers in Colorado. Do Better.',\n",
       " '@Schaffrillas THAT WAS HIS MASK',\n",
       " '@EthicalSkeptic @ntldr2020 If you’re unsure of its benefits and you even see potential harms, could you tell us why and in what situations you wear a mask?',\n",
       " '@vance_lunn @govkristinoem It is not true that South Dakota has a mask mandate. \\n\\nhttps://t.co/GGJoIGnBNZ\\nhttps://t.co/0pYoypkvb1\\nhttps://t.co/MOqg7sV7v9\\nhttps://t.co/HdlZSRGnWQ\\n\\nDisinformation is also a virus, and it can also kill South Dakotans.',\n",
       " '@KateShemirani my 10 year old daughter &amp; her friend were refused entry to @McDonaldsUK Carlisle today for not wearing a mask . I thought under 11s were exempt.',\n",
       " 'Today marks 150 days of no taste or smell. \\n\\nCOVID-19 has made me completely miserable in case y’all needed an reminder to why you should wear a mask']"
      ]
     },
     "execution_count": 28,
     "metadata": {},
     "output_type": "execute_result"
    }
   ],
   "source": [
    "list_tweets"
   ]
  },
  {
   "cell_type": "code",
   "execution_count": 26,
   "metadata": {},
   "outputs": [],
   "source": [
    "#To classify tweets we need our Tfidf and classifier models\n",
    "with open ('tfidfmodel.pickle','rb') as f:\n",
    "    vectorizer = pickle.load (f)"
   ]
  },
  {
   "cell_type": "code",
   "execution_count": 27,
   "metadata": {},
   "outputs": [],
   "source": [
    "with open ('classifier.pickle','rb') as f:\n",
    "    clf = pickle.load(f)"
   ]
  },
  {
   "cell_type": "code",
   "execution_count": 29,
   "metadata": {},
   "outputs": [
    {
     "data": {
      "text/plain": [
       "array([0])"
      ]
     },
     "execution_count": 29,
     "metadata": {},
     "output_type": "execute_result"
    }
   ],
   "source": [
    "#Let's try if it works or not\n",
    "clf.predict(vectorizer.transform(['You are terrible Mr!']))"
   ]
  },
  {
   "cell_type": "code",
   "execution_count": 30,
   "metadata": {},
   "outputs": [],
   "source": [
    "total_pos=0\n",
    "total_neg=0"
   ]
  },
  {
   "cell_type": "code",
   "execution_count": 31,
   "metadata": {},
   "outputs": [
    {
     "name": "stdout",
     "output_type": "stream",
     "text": [
      "cleaned tweets: we can not wait to see fans back at lavell edwards stadium tonight remember mask up social distance sit in your assigned seats byufootball gocougs  [1]\n",
      "cleaned tweets:  arlecchinoswart radleybalko will generally wear mask in public not because think it significantly reduces my or anyone else risk of covid but as courtesy to the fearful impose mandate and will resist  [0]\n",
      "cleaned tweets: see this girl respects him and wore mask  [0]\n",
      "cleaned tweets:  bostonjsteven djstevelawler realdonaldtrump says the deficiente questioning my patriotism while he is probably spreading his covid to other americans only because he can figure which end to use when putting on mask  [0]\n",
      "cleaned tweets:  vancouverboomer oh they are it is just that some people get on the bus with mask and then take it off this asshole was wearing mask until he overheard conversation that was having and then took it off and started in about how they aren necessary since covid is all lie  [1]\n",
      "cleaned tweets: put your mask on right put your mask on right put it on correctly please  [1]\n",
      "cleaned tweets:  mjs_dc elienyc ginni thomas should be wearing mask she a prime candidate to be intubated overweight and over  [1]\n",
      "cleaned tweets:  tchalametupdate realchalamet good girl the mask [0]\n",
      "cleaned tweets:  commonsensepgh ingrahamangle so many republicans refuse to wear masks open things up and wear damn mask increase production of s until vaccine is available invest in rapid testing trump lost me with his mask garbage he downplayed everything  [1]\n",
      "cleaned tweets:  sheismarose good girl kyle voice mean you for cropping the girl with no mask of course  [0]\n",
      "cleaned tweets:  khaosbutterfly heavenlyrage sally also wear mask and social distance [1]\n",
      "cleaned tweets: why must fans always take their mask off when they take picture with timothee [1]\n",
      "cleaned tweets: honestly as stupid and dumb looking as this is d much rather wear this than mask that makes me feel like can barely breathe  [0]\n",
      "cleaned tweets: there are days left to vote mask up and vote early if you are mailing your ballot today is the recommended day to put that ballot in the mail let repudiate this administration and their collaborators who have allowed americans to die politicalart vote  [1]\n",
      "cleaned tweets: it is better to wear mask than to be on ventilator vote  [0]\n",
      "cleaned tweets:  krogerco kroger pm rcpt cashier alma merits promotion amp raise cashier aisle same time doing nothing nobody in her line bc her mask was pulled down amp her nose was hanging out cashier alma had very long line amp was masked properly  [0]\n",
      "cleaned tweets: okay finally somebody wearing their mask properly  [1]\n",
      "cleaned tweets: just your friendly reminder to wear your mask [1]\n",
      "cleaned tweets:  kevin_mckernan non woven and woven fabrics are also typically hydrophilic and will absorb droplets instead of dispersing them the primary mechanism by which the cloth mask prevents dispersion of aersolization is slight pressure barrier detracting aerodynamics  [1]\n",
      "cleaned tweets: heading to cupcakesottawa to get this treat make sure you have the essentials phone wallet keys mask don forget to bring your mask let encourage everyone to wear masks outdoors to help stay covidwise when visiting local businesses ottawahealth  [1]\n",
      "cleaned tweets:  mchooyah as madness as leading corona party to sturgis or making fun of mask mandate on an airline thought you were pro popo [1]\n",
      "cleaned tweets: good morning people of idaho wear mask you are part of the problem grow up  [1]\n",
      "cleaned tweets:  bigindiangyasi also wonder if the person driving while wearing mask might be concerned about being pulled over and not wanting to have to move their hands to put on mask while potentially twitchy cop walks up  [1]\n",
      "cleaned tweets:  jooncllt but like no one asked them why they werent wearing mask they just kept like doing their thing [0]\n",
      "cleaned tweets:  lynchdiana govmurphy he has wear mask and social distance too many people think it is ok to have their nose uncovered  [1]\n",
      "cleaned tweets: a mask thank you  [1]\n",
      "cleaned tweets:  davidd bjdoor dejan_kovacevic ve never tried to hide perhaps you missed my first response to dejan where said support wearing mask  [1]\n",
      "cleaned tweets:  teamof ne bopinion how does wearing masks give government control also if it was about big pharma money they would be pushing not to wear mask that way more people get sick and more pharmaceuticals are sold  [1]\n",
      "cleaned tweets:  whitehouse flotus well if your inviting all these people you better put your mask on can wait to see how many people don show up  [1]\n",
      "cleaned tweets: covidiots govbilllee tngop tnleg this is your fault we need state wide mask mandate  [0]\n",
      "cleaned tweets:  whas this mask fascination will likely fade away after the election  [0]\n",
      "cleaned tweets: okay wait another tie with german literature the bremen mask in majora mask is reference to die bremer stadtmusikanten by the brothers grimm german literature everywhere  [0]\n",
      "cleaned tweets: i can wait for dewine to politely remind everyone that ohio covid cases are skyrocketing and to tell people to pretty please with sugar on top wear mask  [0]\n",
      "cleaned tweets:  canuckclay told you that is why your wife made your new mask  [1]\n",
      "cleaned tweets:  darinstrauss michigangurlie alexberenson no they are not stop perpetuating this lie mask mandates are everywhere and they are doing nothing cases skyrocketing all over the place masks have shown to prevent nothing  [0]\n",
      "cleaned tweets: while people all over the world are protesting to stay alive in endsarsprotests here we have anti mask protesters in oxford marching for the right to catch and spread covid wonders shall never end  [1]\n",
      "cleaned tweets:  senschumer deaths trump is negligent and public health threat the fact that fauci is finally asking for national mask mandate months later is also negligent terrible public health policy that should be considered criminal  [1]\n",
      "cleaned tweets:  comradehirst understand that simon gray is currently doing leaflet drop in the villages and hamlets of south east holderness no lockdown no test no trace no mask no vax [1]\n",
      "cleaned tweets:  noahhaber agreed was on team mask before it was popular but it was always the weak evidence suggests benefit slightly more likely than not and not masks are magic  [1]\n",
      "cleaned tweets: your pic coming out good is not worth not wearing mask with m getting one of ur idols do better  [0]\n",
      "cleaned tweets:  iam_tct that guy with the mask checking you out [0]\n",
      "cleaned tweets:  alexberenson if could stop your overdose or car death by wearing mask wouldn if could stop mine would but m sure he a better person than am  [0]\n",
      "cleaned tweets: outrageous large danish study on mask wearing is being delayed by publishers of major medical journals therefore preventing the results from being made public via gatewaypundit  [1]\n",
      "cleaned tweets:  tedlieu what happened to our freedom from fear of gun violence what happened to our freedom to post yard sign of our choice without fear of violence what happened to the freedom to walk our streets without being abused for wearing mask to protect the elderly repclayhiggins [1]\n",
      "cleaned tweets:  eilishexpensive wear mask out in public at all times  [1]\n",
      "cleaned tweets:  jedrice gregabbott_tx just stop thinking about yourself wear mask for the essential workers who just maybe taking care of you in the hospital wear mask for someone else  [0]\n",
      "cleaned tweets: this make up and mask combo is getting old now [0]\n",
      "cleaned tweets: i cannot believe that our local dollargeneral does not enforce customers to wear mask even the employees wear them around their chin all other stores do good job  [1]\n",
      "cleaned tweets: the sexual tension between me and bitch slapping the middle aged white man in blue lives matter mask that is not covering his nose  [1]\n",
      "cleaned tweets:  boringcereal only happens in every or so times for me have multiple mask types and multiple glasses types ve thot about like making the effort to figure out which combinations are more prone to fogging but  [0]\n",
      "cleaned tweets: more great visualization this time correlating mask usage against population fractions who know people with covid symptoms given how wildly different population densities are in these states the consistent trend is quite striking stay safe all  [1]\n",
      "cleaned tweets:  steveda foxla tomilahren but joe wants the mask and the restrictions how does that work you using hypothetical nonsensical thought to excuse trumps careless response to over dead people is just plain stupid make it make sense  [0]\n",
      "cleaned tweets: everyone has on mask [1]\n",
      "cleaned tweets:  vickiringer jci_johnevans they told us that requiring voters to wear mask can turn into form of discrimination the look on my brown face this is why national mask mandate is needed mayors county and city council members are only interpreting this moment through their local strategies [1]\n",
      "cleaned tweets:  drtomfrieden if your sick during do not go out mask or not [1]\n",
      "cleaned tweets:  buckeyenation where can get one of them face mask with the stickers and stipe  [1]\n",
      "cleaned tweets:  ron_fournier wear mask amen  [1]\n",
      "cleaned tweets:  redwhtblue acyn you are very kind it is true am in chronological years am edging up methuselah on how old my body feels on the bad days though wear mask amp protect yourselves and each other this covid thing is predatory if it doesn kill you it might make you wish you were dead  [0]\n",
      "cleaned tweets: my dad has mobility issues and has housekeeper come by every two weeks to help clean she never wore mask she just tested positive on the st and was last in his home on the th he is years old he got tested yesterday and am anxiously awaiting his results  [1]\n",
      "cleaned tweets:  nygovcuomo your nursing homes executive order was total lack of respect and common sense which says you say listen to the science and de fraucvi is the main mask pusher and thinks you did gear job no will not trust his science  [1]\n",
      "cleaned tweets:  tomatonation cute mask  [1]\n",
      "cleaned tweets:  jackposobiec coughs without mask into his bare hand for emphasis was there word in that cough ck also chump for trump will be someone twitter handle by nightfall  [1]\n",
      "cleaned tweets:  thehill but ll be an american president d say his mask slipped but he isn wearing one  [1]\n",
      "cleaned tweets:  nygovcuomo respect mask workers poll up  [1]\n",
      "cleaned tweets:  dejan_kovacevic littleballofha per the cdc of covid patients that died wore mask what garbage is shaming people because of your personal beliefs the bottom line is over of those infected recover stop the madness amp stop politicizing it  [1]\n",
      "cleaned tweets:  cases in one day but all won wear mask [1]\n",
      "cleaned tweets: serious question if all players coaches refs crew and attendees had to test negative with covid why is there need to wear mask on the sideline cfb bigtenisback [0]\n",
      "cleaned tweets: fucking just wear mask [1]\n",
      "cleaned tweets: the amount of anti maskers on twitter makes me want to vomit there no solution anymore m over it all don wear mask for the same reason all don wear underwear ya shit stinks and don wanna smell it  [0]\n",
      "cleaned tweets:  dejan_kovacevic wear glasses every breath take my glasses dog you re telling me the mask is blocking anything  [0]\n",
      "cleaned tweets:  eilishexpensive wear mask out in public at all times  [1]\n",
      "cleaned tweets: sorry old person in hotspot that you re offended don want to get in an elevator with you without mask  [1]\n",
      "cleaned tweets:  skepby nbcnews you act like your opinion matters to me lol you are literally bad person and everything that is wrong with society hope you get the help you deserve but think your mask is cutting off too much oxygen to your brain  [0]\n",
      "cleaned tweets:  persistence apoorva_nyc stevesilberman selfish your wearing mask protects others  [1]\n",
      "cleaned tweets: the only place you should be going is your ballot drop off location or your polling spot vote in your mask stay at least feet away from everyone else then go the fuck home vote voteearly vote covid  [0]\n",
      "cleaned tweets:  judyrincon pattyarquette abc yankeemike we also have vaccines antibiotics and other medical and hygiene advancements masks are proven to minimize spread rarely go out because am on chemo but when do double mask because of selfish idiot anti maskers don want to be covid fatality cancer is bad enough [0]\n",
      "cleaned tweets:  meventing did they think everyone was wearing mask because they enjoyed it sounds like recipe for violence  [1]\n",
      "cleaned tweets:  acyn he wants sun block but not mask  [0]\n",
      "cleaned tweets:  blackrosebisha yea pokemon is dark not to mention the humans who die and become ghost pokemon like yamask who carrie around mask of their face when they were alive that is horrifying [1]\n",
      "cleaned tweets: as governor resists mask mandate iowans sour on the gop via yahoonews [1]\n",
      "cleaned tweets:  joshshepperd ll probably be at retirement age by then so guess put my mask collection into storage  [0]\n",
      "cleaned tweets: the options are not either complete shut down or open the country and business as usual first we must take this virus seriously second wear mask watch your distance and wash your hands  [0]\n",
      "cleaned tweets:  clarkemicah outside mask wearing will come with the second wave of the virus then the vaccine we will all have to have or we wil not have life someone stop the great reset before it is to late  [1]\n",
      "cleaned tweets:  trumpwarroom sounds like joe has touch of the wuhan flu better put your mask on  [0]\n",
      "cleaned tweets:  steveschmidt and does this also apply to sex mask and keep feet apart thought fauci said sex was ok  [0]\n",
      "cleaned tweets: wear your mask  [1]\n",
      "cleaned tweets:  iamalanwalker you ve already warned us to wear mask btw loads of love  [1]\n",
      "cleaned tweets:  mjarbo we ve got big no mask no servive sign up on our doors at work  [0]\n",
      "cleaned tweets: gotta stay protected wear ya mask  [1]\n",
      "cleaned tweets:  stevenstaten huntjennifer_ wxyzdetroit you like to say scared like to say responsible citizen when you know better you do better am healthy adult but know fellow citizen may have health issues out of concern for them will wear mask wil not be some whiney adolescent crying about peice of cloth  [1]\n",
      "cleaned tweets:  walesonline no face mask criminal amp also lock him up [1]\n",
      "cleaned tweets: veronica remember she is delivered few bags of vegetables to people who were cocooning for that test niall mcc no mask no gloves not care for the lives of those vulnerable people deesgusting  [1]\n",
      "cleaned tweets:  _trevordylan hideo_kojima_en kojipro _en kojima_hideo wwwbigbaldhead nicolaswr teejaye mslindsaywagner troybakerva need this mask [0]\n",
      "cleaned tweets: i wish it wasn so cold am tired of waiting on getting over being sick to work out more want to go for walk or jog even though it is not fun in the mask have treadmill though so will get on that later tonight guess  [0]\n",
      "cleaned tweets: hey kroger what up with the shitty mask compliance at king soopers in colorado do better  [0]\n",
      "cleaned tweets:  schaffrillas that was his mask [1]\n",
      "cleaned tweets:  ethicalskeptic ntldr if you re unsure of its benefits and you even see potential harms could you tell us why and in what situations you wear mask  [0]\n",
      "cleaned tweets:  vance_lunn govkristinoem it is not true that south dakota has mask mandate https co pyoypkvb https co hdlzsrgnwq disinformation is also virus and it can also kill south dakotans  [1]\n",
      "cleaned tweets:  kateshemirani my year old daughter amp her friend were refused entry to mcdonaldsuk carlisle today for not wearing mask thought under were exempt  [1]\n",
      "cleaned tweets: today marks days of no taste or smell covid has made me completely miserable in case all needed an reminder to why you should wear mask [0]\n"
     ]
    }
   ],
   "source": [
    "#Pre-process Tweets we have collected\n",
    "for tweet in list_tweets:\n",
    "    tweet=re.sub(r\"^http://t.co/[a-zA-Z09]*\\s\",\" \",tweet) #remove links\n",
    "    tweet=re.sub(r\"\\s+https://t.co/[a-zA-Z0-9]*\\s\",\" \",tweet)\n",
    "    tweet=re.sub(r\"\\s+https://t.co/[a-zA-Z0-9]*$\",\" \",tweet)\n",
    "    tweet=tweet.lower()\n",
    "    tweet=re.sub(r\"that's\",\"that is\", tweet)\n",
    "    tweet=re.sub(r\"there's\",\"there is\", tweet)\n",
    "    tweet=re.sub(r\"what's\",\"what is\", tweet)\n",
    "    tweet=re.sub(r\"where's\",\"where is\", tweet)\n",
    "    tweet=re.sub(r\"it's\",\"it is\", tweet)\n",
    "    tweet=re.sub(r\"who's\",\"who is\", tweet)\n",
    "    tweet=re.sub(r\"i'm\",\"i am\", tweet)\n",
    "    tweet=re.sub(r\"she's\",\"she is\", tweet)\n",
    "    tweet=re.sub(r\"he's\",\"he is\", tweet)\n",
    "    tweet=re.sub(r\"they're\",\"they are\", tweet)\n",
    "    tweet=re.sub(r\"who're\",\"who are\", tweet)\n",
    "    tweet=re.sub(r\"ain't\",\"am not\", tweet)\n",
    "    tweet=re.sub(r\"wouldn't\",\"would not\", tweet)\n",
    "    tweet=re.sub(r\"can't\",\"can not\", tweet)\n",
    "    tweet=re.sub(r\"could't\",\"could not\", tweet)\n",
    "    tweet=re.sub(r\"won't\",\"wil not\", tweet)\n",
    "    tweet=re.sub(r\"\\W\",\" \", tweet)\n",
    "    tweet=re.sub(r\"\\d\",\" \", tweet)\n",
    "    tweet=re.sub(r\"\\s+[a-z]\\s+\",\" \", tweet)\n",
    "    tweet=re.sub(r\"\\s+[a-z]$\",\" \", tweet)\n",
    "    tweet=re.sub(r\"^[a-z]\\+s\",\" \", tweet)\n",
    "    tweet=re.sub(r\"\\s+\",\" \", tweet)\n",
    "    #Predicting Sentiment of Tweets\n",
    "    sent = clf.predict(vectorizer.transform([tweet]).toarray())\n",
    "    #Increase sentinment variables based on tweet sentiment\n",
    "    if sent[0] == 1:\n",
    "        total_pos +=1\n",
    "    else:\n",
    "        total_neg+=1\n",
    "    \n",
    "    print(\"cleaned tweets:\", tweet,sent)"
   ]
  },
  {
   "cell_type": "code",
   "execution_count": 32,
   "metadata": {},
   "outputs": [],
   "source": [
    "#Plotting the results\n",
    "#First, we will declare two variables before the cleaning loop to put total number of pos or neg words"
   ]
  },
  {
   "cell_type": "code",
   "execution_count": 33,
   "metadata": {},
   "outputs": [
    {
     "name": "stdout",
     "output_type": "stream",
     "text": [
      "39\n"
     ]
    }
   ],
   "source": [
    "print (total_neg)"
   ]
  },
  {
   "cell_type": "code",
   "execution_count": 34,
   "metadata": {},
   "outputs": [
    {
     "name": "stdout",
     "output_type": "stream",
     "text": [
      "61\n"
     ]
    }
   ],
   "source": [
    "print (total_pos)"
   ]
  },
  {
   "cell_type": "code",
   "execution_count": 36,
   "metadata": {},
   "outputs": [],
   "source": [
    "objects = ['Positive','Negative']"
   ]
  },
  {
   "cell_type": "code",
   "execution_count": 37,
   "metadata": {},
   "outputs": [],
   "source": [
    "y_pos = np.arange (len(objects))#we need the position of y"
   ]
  },
  {
   "cell_type": "code",
   "execution_count": 38,
   "metadata": {
    "scrolled": true
   },
   "outputs": [
    {
     "data": {
      "text/plain": [
       "Text(0.5, 1.0, 'Number of Positive and Negative Tweets')"
      ]
     },
     "execution_count": 38,
     "metadata": {},
     "output_type": "execute_result"
    },
    {
     "data": {
      "image/png": "[encoded data removed]",
      "text/plain": [
       "<Figure size 432x288 with 1 Axes>"
      ]
     },
     "metadata": {
      "needs_background": "light"
     },
     "output_type": "display_data"
    }
   ],
   "source": [
    "#Plot the results and visualize the data\n",
    "plt.bar(y_pos,[total_pos,total_neg],alpha=0.5);\n",
    "plt.xticks(y_pos,objects)\n",
    "plt.ylabel(\"Number\")\n",
    "plt.title(\"Number of Positive and Negative Tweets\")"
   ]
  }
 ],
 "metadata": {
  "kernelspec": {
   "display_name": "Python 3",
   "language": "python",
   "name": "python3"
  },
  "language_info": {
   "codemirror_mode": {
    "name": "ipython",
    "version": 3
   },
   "file_extension": ".py",
   "mimetype": "text/x-python",
   "name": "python",
   "nbconvert_exporter": "python",
   "pygments_lexer": "ipython3",
   "version": "3.7.4"
  }
 },
 "nbformat": 4,
 "nbformat_minor": 2
}
