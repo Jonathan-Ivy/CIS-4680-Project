{
 "cells": [
  {
   "cell_type": "code",
   "execution_count": 5,
   "metadata": {},
   "outputs": [],
   "source": [
    "#A notebook for Tweet classification by Jonathan Ivy"
   ]
  },
  {
   "cell_type": "code",
   "execution_count": 7,
   "metadata": {},
   "outputs": [],
   "source": [
    "#Tweet Classifier\n",
    "#Import Libraries\n",
    "import numpy as np\n",
    "import re\n",
    "import pickle\n",
    "import nltk\n",
    "from nltk.corpus import stopwords\n",
    "from sklearn.datasets import load_files #using the load file function, we import dataset\n",
    "#nltk.download('stopwords') - Not needed if already up to date\n",
    "import pandas as pd"
   ]
  },
  {
   "cell_type": "code",
   "execution_count": 3,
   "metadata": {},
   "outputs": [],
   "source": [
    "#Import Dataset\n",
    "tweets = load_files('txt_tweetsent/') #when we put / load_files loops inside all sub-directories\n",
    "#based on our folders, it will create two classes, neg (class zero) and pos (class one)"
   ]
  },
  {
   "cell_type": "code",
   "execution_count": null,
   "metadata": {},
   "outputs": [],
   "source": [
    "#Now we need to seperate the class and the document\n",
    "X,y = tweets.data, tweets.target"
   ]
  },
  {
   "cell_type": "code",
   "execution_count": null,
   "metadata": {},
   "outputs": [],
   "source": [
    "#Load_file function for large datasets is time consuming\n",
    "#To get away, we store X,Y as a pickle file - Save file on disk\n",
    "#Store pickle file\n",
    "with open ('X.pickle','wb') as f:#wb, write-byte\n",
    "    pickle.dump (X,f)"
   ]
  },
  {
   "cell_type": "code",
   "execution_count": null,
   "metadata": {},
   "outputs": [],
   "source": [
    "with open ('y.pickle','wb') as f:#wb, write-byte\n",
    "    pickle.dump (y,f)"
   ]
  },
  {
   "cell_type": "code",
   "execution_count": null,
   "metadata": {},
   "outputs": [],
   "source": [
    "#Unpickling the dataset\n",
    "with open ('X.pickle','rb') as f:#rb, read-byte\n",
    "    X=pickle.load(f)\n",
    "\n",
    "with open ('y.pickle','rb') as f:#rb, read-byte\n",
    "    y=pickle.load(f)"
   ]
  },
  {
   "cell_type": "code",
   "execution_count": null,
   "metadata": {},
   "outputs": [],
   "source": [
    "#Preprocessing X\n",
    "#Creating a Corpus - A list Corpus will contain all pre-processed documents\n",
    "corpus=[]\n",
    "for i in range (0,len(X)):\n",
    "    tweet=re.sub(r\"^http://t.co/[a-zA-Z09]*\\s\",\" \",tweet) #remove links\n",
    "    tweet=re.sub(r\"\\s+https://t.co/[a-zA-Z0-9]*\\s\",\" \",tweet)\n",
    "    tweet=re.sub(r\"\\s+https://t.co/[a-zA-Z0-9]*$\",\" \",tweet)\n",
    "    tweet=tweet.lower()\n",
    "    tweet=re.sub(r\"that's\",\"that is\", tweet)\n",
    "    tweet=re.sub(r\"there's\",\"there is\", tweet)\n",
    "    tweet=re.sub(r\"what's\",\"what is\", tweet)\n",
    "    tweet=re.sub(r\"where's\",\"where is\", tweet)\n",
    "    tweet=re.sub(r\"it's\",\"it is\", tweet)\n",
    "    tweet=re.sub(r\"who's\",\"who is\", tweet)\n",
    "    tweet=re.sub(r\"i'm\",\"i am\", tweet)\n",
    "    tweet=re.sub(r\"she's\",\"she is\", tweet)\n",
    "    tweet=re.sub(r\"he's\",\"he is\", tweet)\n",
    "    tweet=re.sub(r\"they're\",\"they are\", tweet)\n",
    "    tweet=re.sub(r\"who're\",\"who are\", tweet)\n",
    "    tweet=re.sub(r\"ain't\",\"am not\", tweet)\n",
    "    tweet=re.sub(r\"wouldn't\",\"would not\", tweet)\n",
    "    tweet=re.sub(r\"can't\",\"can not\", tweet)\n",
    "    tweet=re.sub(r\"could't\",\"could not\", tweet)\n",
    "    tweet=re.sub(r\"won't\",\"wil not\", tweet)\n",
    "    tweet=re.sub(r\"\\W\",\" \", tweet)\n",
    "    tweet=re.sub(r\"\\d\",\" \", tweet)\n",
    "    tweet=re.sub(r\"\\s+[a-z]\\s+\",\" \", tweet)\n",
    "    tweet=re.sub(r\"\\s+[a-z]$\",\" \", tweet)\n",
    "    tweet=re.sub(r\"^[a-z]\\+s\",\" \", tweet)\n",
    "    tweet=re.sub(r\"\\s+\",\" \", tweet)\n",
    "    corpus.append(tweet) #Append each\n",
    "norm_corpus=corpus"
   ]
  },
  {
   "cell_type": "code",
   "execution_count": null,
   "metadata": {},
   "outputs": [],
   "source": [
    "#Create Bag of Words Model\n",
    "from sklearn.feature_extraction.text import CountVectorizer\n",
    "#Create an object of count vectorizer, max_features is top n most frequent words as features\n",
    "#min_df if a word appear in less than 2, it would be removed\n",
    "#max_df exlucde all words that appear in 60% of documents or more than than (e.g. the) - focus only on important words\n",
    "#finally exclude all stop words that are in the list specified\n",
    "vectorizer = CountVectorizer(max_features=2000,min_df=2, max_df=0.6, stop_words=stopwords.words('english'))\n",
    "#now create BOW model\n",
    "X = vectorizer.fit_transform(norm_corpus).toarray()"
   ]
  },
  {
   "cell_type": "code",
   "execution_count": 4,
   "metadata": {},
   "outputs": [
    {
     "ename": "NameError",
     "evalue": "name 'X' is not defined",
     "output_type": "error",
     "traceback": [
      "\u001b[1;31m---------------------------------------------------------------------------\u001b[0m",
      "\u001b[1;31mNameError\u001b[0m                                 Traceback (most recent call last)",
      "\u001b[1;32m<ipython-input-4-bc5f1a0adac8>\u001b[0m in \u001b[0;36m<module>\u001b[1;34m\u001b[0m\n\u001b[1;32m----> 1\u001b[1;33m \u001b[0mX\u001b[0m\u001b[1;33m.\u001b[0m\u001b[0mshape\u001b[0m\u001b[1;33m\u001b[0m\u001b[1;33m\u001b[0m\u001b[0m\n\u001b[0m",
      "\u001b[1;31mNameError\u001b[0m: name 'X' is not defined"
     ]
    }
   ],
   "source": [
    "X.shape"
   ]
  },
  {
   "cell_type": "code",
   "execution_count": null,
   "metadata": {},
   "outputs": [],
   "source": [
    "#Convert BOW to TF_IDF\n",
    "from sklearn.feature_extraction.text import TfidfTransformer\n",
    "transformer = TfidfTransformer()"
   ]
  },
  {
   "cell_type": "code",
   "execution_count": null,
   "metadata": {},
   "outputs": [],
   "source": [
    "X=transformer.fit_transform(X).toarray()"
   ]
  },
  {
   "cell_type": "code",
   "execution_count": null,
   "metadata": {},
   "outputs": [],
   "source": [
    "X"
   ]
  },
  {
   "cell_type": "code",
   "execution_count": null,
   "metadata": {},
   "outputs": [],
   "source": [
    "#Split Dataset into Train and Test\n",
    "from sklearn.model_selection import train_test_split\n",
    "text_train, text_test,sent_train, sent_test = train_test_split (X,y,test_size=0.2, random_state=0) \n",
    "#X tfidf mode, y list of classes (0,1), for each X we have a y, random state helps all get same results\n",
    "#80% for training, 20% for test, \n",
    "#It returns four arguments that we need to save\n",
    "#text_train list of documents we will use for model training, text_test document to test model performance\n",
    "#sent_train diff sentiment classes associated with text_train"
   ]
  },
  {
   "cell_type": "code",
   "execution_count": null,
   "metadata": {},
   "outputs": [],
   "source": [
    "text_train.shape"
   ]
  },
  {
   "cell_type": "code",
   "execution_count": null,
   "metadata": {},
   "outputs": [],
   "source": [
    "text_test.shape"
   ]
  },
  {
   "cell_type": "code",
   "execution_count": null,
   "metadata": {},
   "outputs": [],
   "source": [
    "sent_train.shape"
   ]
  },
  {
   "cell_type": "code",
   "execution_count": null,
   "metadata": {},
   "outputs": [],
   "source": [
    "sent_test.shape"
   ]
  },
  {
   "cell_type": "code",
   "execution_count": null,
   "metadata": {},
   "outputs": [],
   "source": [
    "#Logistic Regression - Training Classifier\n",
    "from sklearn.linear_model import LogisticRegression\n",
    "classifier = LogisticRegression(solver='newton-cg')\n",
    "classifier.fit(text_train,sent_train) # we fit the model"
   ]
  },
  {
   "cell_type": "code",
   "execution_count": null,
   "metadata": {},
   "outputs": [],
   "source": [
    "#Logistic Regression - Test Classifier - Evaluate Model Performance\n",
    "sent_pred = classifier.predict(text_test) #list of all preditions"
   ]
  },
  {
   "cell_type": "code",
   "execution_count": null,
   "metadata": {},
   "outputs": [],
   "source": [
    "#Now we need to compare sent_pred with sent_test\n",
    "from sklearn.metrics import confusion_matrix\n",
    "cm = confusion_matrix(sent_test,sent_pred)"
   ]
  },
  {
   "cell_type": "code",
   "execution_count": null,
   "metadata": {},
   "outputs": [],
   "source": [
    "cm"
   ]
  },
  {
   "cell_type": "code",
   "execution_count": null,
   "metadata": {},
   "outputs": [],
   "source": [
    "#total correct predictions out of 400\n",
    "tot=cm[0][0]+cm[1][1]\n",
    "print (tot)\n",
    "#Model accuracy\n",
    "print(\"Accuracy:\",(tot/cm.sum()))"
   ]
  },
  {
   "cell_type": "code",
   "execution_count": null,
   "metadata": {},
   "outputs": [],
   "source": [
    "#Model precision\n",
    "prec=round((cm[1][1]/(cm[1][1]+cm[0][1])),4)\n",
    "print (\"Precision:\",prec)"
   ]
  },
  {
   "cell_type": "code",
   "execution_count": null,
   "metadata": {},
   "outputs": [],
   "source": [
    "#Model recall - hit rate\n",
    "rec=round((cm[1][1]/(cm[1][1]+cm[1][0])),4)\n",
    "print (\"Recall:\",rec)"
   ]
  },
  {
   "cell_type": "code",
   "execution_count": null,
   "metadata": {},
   "outputs": [],
   "source": [
    "#Model F1-score - hit rate\n",
    "F1_score = round(2*prec*rec/(prec+rec),4)\n",
    "print (\"F1 Score:\",F1_score)"
   ]
  },
  {
   "cell_type": "code",
   "execution_count": null,
   "metadata": {},
   "outputs": [],
   "source": [
    "#Save the model to re-use!\n",
    "#Pickling the Classifier\n",
    "with open ('classifier.pickle','wb') as f:#rb, write-byte\n",
    "    pickle.dump(classifier,f)\n",
    "#First we need to use TfidVectorizer"
   ]
  },
  {
   "cell_type": "code",
   "execution_count": 8,
   "metadata": {},
   "outputs": [
    {
     "ename": "NameError",
     "evalue": "name 'tweet' is not defined",
     "output_type": "error",
     "traceback": [
      "\u001b[1;31m---------------------------------------------------------------------------\u001b[0m",
      "\u001b[1;31mNameError\u001b[0m                                 Traceback (most recent call last)",
      "\u001b[1;32m<ipython-input-8-66085ffe2650>\u001b[0m in \u001b[0;36m<module>\u001b[1;34m\u001b[0m\n\u001b[0;32m     10\u001b[0m \u001b[0mcorpus\u001b[0m\u001b[1;33m=\u001b[0m\u001b[1;33m[\u001b[0m\u001b[1;33m]\u001b[0m\u001b[1;33m\u001b[0m\u001b[1;33m\u001b[0m\u001b[0m\n\u001b[0;32m     11\u001b[0m \u001b[1;32mfor\u001b[0m \u001b[0mi\u001b[0m \u001b[1;32min\u001b[0m \u001b[0mrange\u001b[0m \u001b[1;33m(\u001b[0m\u001b[1;36m0\u001b[0m\u001b[1;33m,\u001b[0m\u001b[0mlen\u001b[0m\u001b[1;33m(\u001b[0m\u001b[0mX\u001b[0m\u001b[1;33m)\u001b[0m\u001b[1;33m)\u001b[0m\u001b[1;33m:\u001b[0m\u001b[1;33m\u001b[0m\u001b[1;33m\u001b[0m\u001b[0m\n\u001b[1;32m---> 12\u001b[1;33m     \u001b[0mtweet\u001b[0m\u001b[1;33m=\u001b[0m\u001b[0mre\u001b[0m\u001b[1;33m.\u001b[0m\u001b[0msub\u001b[0m\u001b[1;33m(\u001b[0m\u001b[1;34mr\"^http://t.co/[a-zA-Z09]*\\s\"\u001b[0m\u001b[1;33m,\u001b[0m\u001b[1;34m\" \"\u001b[0m\u001b[1;33m,\u001b[0m\u001b[0mtweet\u001b[0m\u001b[1;33m)\u001b[0m \u001b[1;31m#remove links\u001b[0m\u001b[1;33m\u001b[0m\u001b[1;33m\u001b[0m\u001b[0m\n\u001b[0m\u001b[0;32m     13\u001b[0m     \u001b[0mtweet\u001b[0m\u001b[1;33m=\u001b[0m\u001b[0mre\u001b[0m\u001b[1;33m.\u001b[0m\u001b[0msub\u001b[0m\u001b[1;33m(\u001b[0m\u001b[1;34mr\"\\s+https://t.co/[a-zA-Z0-9]*\\s\"\u001b[0m\u001b[1;33m,\u001b[0m\u001b[1;34m\" \"\u001b[0m\u001b[1;33m,\u001b[0m\u001b[0mtweet\u001b[0m\u001b[1;33m)\u001b[0m\u001b[1;33m\u001b[0m\u001b[1;33m\u001b[0m\u001b[0m\n\u001b[0;32m     14\u001b[0m     \u001b[0mtweet\u001b[0m\u001b[1;33m=\u001b[0m\u001b[0mre\u001b[0m\u001b[1;33m.\u001b[0m\u001b[0msub\u001b[0m\u001b[1;33m(\u001b[0m\u001b[1;34mr\"\\s+https://t.co/[a-zA-Z0-9]*$\"\u001b[0m\u001b[1;33m,\u001b[0m\u001b[1;34m\" \"\u001b[0m\u001b[1;33m,\u001b[0m\u001b[0mtweet\u001b[0m\u001b[1;33m)\u001b[0m\u001b[1;33m\u001b[0m\u001b[1;33m\u001b[0m\u001b[0m\n",
      "\u001b[1;31mNameError\u001b[0m: name 'tweet' is not defined"
     ]
    }
   ],
   "source": [
    "#Directly use the TfidVectorizer\n",
    "#Unpickling the dataset\n",
    "with open ('X.pickle','rb') as f:#rb, read-byte\n",
    "    X=pickle.load(f)\n",
    "\n",
    "with open ('y.pickle','rb') as f:#rb, read-byte\n",
    "    y=pickle.load(f)\n",
    "\n",
    "#Creating a Corpus - A list Corpus will contain all pre-processed documents\n",
    "corpus=[]\n",
    "for i in range (0,len(X)):\n",
    "    tweet=re.sub(r\"^http://t.co/[a-zA-Z09]*\\s\",\" \",tweet) #remove links\n",
    "    tweet=re.sub(r\"\\s+https://t.co/[a-zA-Z0-9]*\\s\",\" \",tweet)\n",
    "    tweet=re.sub(r\"\\s+https://t.co/[a-zA-Z0-9]*$\",\" \",tweet)\n",
    "    tweet=tweet.lower()\n",
    "    tweet=re.sub(r\"that's\",\"that is\", tweet)\n",
    "    tweet=re.sub(r\"there's\",\"there is\", tweet)\n",
    "    tweet=re.sub(r\"what's\",\"what is\", tweet)\n",
    "    tweet=re.sub(r\"where's\",\"where is\", tweet)\n",
    "    tweet=re.sub(r\"it's\",\"it is\", tweet)\n",
    "    tweet=re.sub(r\"who's\",\"who is\", tweet)\n",
    "    tweet=re.sub(r\"i'm\",\"i am\", tweet)\n",
    "    tweet=re.sub(r\"she's\",\"she is\", tweet)\n",
    "    tweet=re.sub(r\"he's\",\"he is\", tweet)\n",
    "    tweet=re.sub(r\"they're\",\"they are\", tweet)\n",
    "    tweet=re.sub(r\"who're\",\"who are\", tweet)\n",
    "    tweet=re.sub(r\"ain't\",\"am not\", tweet)\n",
    "    tweet=re.sub(r\"wouldn't\",\"would not\", tweet)\n",
    "    tweet=re.sub(r\"can't\",\"can not\", tweet)\n",
    "    tweet=re.sub(r\"could't\",\"could not\", tweet)\n",
    "    tweet=re.sub(r\"won't\",\"wil not\", tweet)\n",
    "    tweet=re.sub(r\"\\W\",\" \", tweet)\n",
    "    tweet=re.sub(r\"\\d\",\" \", tweet)\n",
    "    tweet=re.sub(r\"\\s+[a-z]\\s+\",\" \", tweet)\n",
    "    tweet=re.sub(r\"\\s+[a-z]$\",\" \", tweet)\n",
    "    tweet=re.sub(r\"^[a-z]\\+s\",\" \", tweet)\n",
    "    tweet=re.sub(r\"\\s+\",\" \", tweet)\n",
    "    corpus.append(tweet) #Append each\n",
    "norm_corpus=corpus\n",
    "\n",
    "from sklearn.feature_extraction.text import TfidfVectorizer\n",
    "vectorizer = TfidfVectorizer(max_features=2000, min_df=2,max_df=0.6,stop_words=stopwords.words('english'))\n",
    "X = vectorizer.fit_transform(norm_corpus).toarray()"
   ]
  },
  {
   "cell_type": "code",
   "execution_count": null,
   "metadata": {},
   "outputs": [],
   "source": [
    "#Pickling the Vectorizer\n",
    "with open ('tfidfmodel.pickle','wb') as f:#rb, write-byte\n",
    "    pickle.dump(vectorizer,f)"
   ]
  },
  {
   "cell_type": "code",
   "execution_count": null,
   "metadata": {},
   "outputs": [],
   "source": [
    "#Importing the Model (Classifier/Vectorizer)\n",
    "#For a sentence we will say if its polarity is negative or positive\n",
    "#Unpickling the classifier - Vectorizer\n",
    "with open ('classifier.pickle','rb') as f:#rb, read-byte\n",
    "    clf=pickle.load(f)\n",
    "with open ('tfidfmodel.pickle','rb') as f:#rb, read-byte\n",
    "    tfidf=pickle.load(f)"
   ]
  },
  {
   "cell_type": "code",
   "execution_count": null,
   "metadata": {},
   "outputs": [],
   "source": [
    "#Now, use it\n",
    "sample = [\"Enter Tweet here\"]\n",
    "#We do not want to fit, we just want to transform based on an already trained model\n",
    "sample = tfidf.transform(sample).toarray()"
   ]
  },
  {
   "cell_type": "code",
   "execution_count": null,
   "metadata": {},
   "outputs": [],
   "source": [
    "print(\"0 is negative & 1 is positive:\", clf.predict(sample)) "
   ]
  }
 ],
 "metadata": {
  "kernelspec": {
   "display_name": "Python 3",
   "language": "python",
   "name": "python3"
  },
  "language_info": {
   "codemirror_mode": {
    "name": "ipython",
    "version": 3
   },
   "file_extension": ".py",
   "mimetype": "text/x-python",
   "name": "python",
   "nbconvert_exporter": "python",
   "pygments_lexer": "ipython3",
   "version": "3.7.4"
  }
 },
 "nbformat": 4,
 "nbformat_minor": 2
}
