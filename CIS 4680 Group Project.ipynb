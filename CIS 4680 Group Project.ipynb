{
 "cells": [
  {
   "cell_type": "code",
   "execution_count": 1,
   "metadata": {
    "scrolled": true
   },
   "outputs": [],
   "source": [
    "#pip install tweepy #if gives an error Python -m pip install tweepy"
   ]
  },
  {
   "cell_type": "code",
   "execution_count": 2,
   "metadata": {},
   "outputs": [
    {
     "name": "stdout",
     "output_type": "stream",
     "text": [
      "Requirement already satisfied: tweepy in c:\\users\\jrivy.desktop-e7so70t\\appdata\\roaming\\python\\python37\\site-packages (3.9.0)\n",
      "Requirement already satisfied: requests-oauthlib>=0.7.0 in c:\\users\\jrivy.desktop-e7so70t\\appdata\\roaming\\python\\python37\\site-packages (from tweepy) (1.3.0)\n",
      "Requirement already satisfied: six>=1.10.0 in c:\\users\\jrivy.desktop-e7so70t\\anaconda3\\lib\\site-packages (from tweepy) (1.12.0)\n",
      "Requirement already satisfied: requests[socks]>=2.11.1 in c:\\users\\jrivy.desktop-e7so70t\\anaconda3\\lib\\site-packages (from tweepy) (2.22.0)\n",
      "Requirement already satisfied: oauthlib>=3.0.0 in c:\\users\\jrivy.desktop-e7so70t\\appdata\\roaming\\python\\python37\\site-packages (from requests-oauthlib>=0.7.0->tweepy) (3.1.0)\n",
      "Requirement already satisfied: chardet<3.1.0,>=3.0.2 in c:\\users\\jrivy.desktop-e7so70t\\anaconda3\\lib\\site-packages (from requests[socks]>=2.11.1->tweepy) (3.0.4)\n",
      "Requirement already satisfied: idna<2.9,>=2.5 in c:\\users\\jrivy.desktop-e7so70t\\anaconda3\\lib\\site-packages (from requests[socks]>=2.11.1->tweepy) (2.8)\n",
      "Requirement already satisfied: urllib3!=1.25.0,!=1.25.1,<1.26,>=1.21.1 in c:\\users\\jrivy.desktop-e7so70t\\anaconda3\\lib\\site-packages (from requests[socks]>=2.11.1->tweepy) (1.24.2)\n",
      "Requirement already satisfied: certifi>=2017.4.17 in c:\\users\\jrivy.desktop-e7so70t\\anaconda3\\lib\\site-packages (from requests[socks]>=2.11.1->tweepy) (2019.9.11)\n",
      "Requirement already satisfied: PySocks!=1.5.7,>=1.5.6; extra == \"socks\" in c:\\users\\jrivy.desktop-e7so70t\\anaconda3\\lib\\site-packages (from requests[socks]>=2.11.1->tweepy) (1.7.1)\n"
     ]
    }
   ],
   "source": [
    "! pip install --user tweepy"
   ]
  },
  {
   "cell_type": "code",
   "execution_count": 17,
   "metadata": {},
   "outputs": [],
   "source": [
    "import tweepy\n",
    "import re\n",
    "import pickle\n",
    "import pandas as pd\n",
    "import numpy as np\n",
    "import re\n",
    "import matplotlib.pyplot as plt #plotting library for the Python programming language\n",
    "#and its numerical mathematics extension NumPy\n",
    "import nltk"
   ]
  },
  {
   "cell_type": "code",
   "execution_count": 4,
   "metadata": {},
   "outputs": [],
   "source": [
    "from tweepy import OAuthHandler #does the job of authenticating our client machine with Twitter server"
   ]
  },
  {
   "cell_type": "code",
   "execution_count": 5,
   "metadata": {},
   "outputs": [],
   "source": [
    "#Now initialize all keys we need, and they should be entered in the form of strings"
   ]
  },
  {
   "cell_type": "code",
   "execution_count": 6,
   "metadata": {},
   "outputs": [],
   "source": [
    "consumer_key = 'fyYq7oF0KxkUdeI2zwGCKV8GQ'\n",
    "consumer_secret = 'Avne5z6Jo2ycAvWA5ZgLqEyz6rDIC9dp2OkIQpQg4zpOZvpG4f'\n",
    "access_token = '3233029615-v2xFc4THm1pXk6OR5DhqXdIjEc8RdJzQNscqgZ1'\n",
    "access_secret='Lq8kBfo3k1BtZW6lFSah06MZhqV6eOyYFeNsguSGAjW1E'"
   ]
  },
  {
   "cell_type": "code",
   "execution_count": 7,
   "metadata": {},
   "outputs": [],
   "source": [
    "#Authenticate Client, because every App we build will have unique keys and secrets\n",
    "auth = OAuthHandler(consumer_key,consumer_secret)"
   ]
  },
  {
   "cell_type": "code",
   "execution_count": 8,
   "metadata": {},
   "outputs": [],
   "source": [
    "auth.set_access_token(access_token,access_secret)"
   ]
  },
  {
   "cell_type": "code",
   "execution_count": 9,
   "metadata": {},
   "outputs": [],
   "source": [
    "#set our search tokens\n",
    "args = ['mask']"
   ]
  },
  {
   "cell_type": "code",
   "execution_count": 10,
   "metadata": {},
   "outputs": [],
   "source": [
    "api = tweepy.API(auth,timeout=10)#if we don't find any tweets, after 10 seconds API stops looking"
   ]
  },
  {
   "cell_type": "code",
   "execution_count": 11,
   "metadata": {},
   "outputs": [],
   "source": [
    "#Fetch Tweets corresponding to the argument above - top 100"
   ]
  },
  {
   "cell_type": "code",
   "execution_count": 12,
   "metadata": {},
   "outputs": [],
   "source": [
    "#Declare a list\n",
    "list_tweets = []"
   ]
  },
  {
   "cell_type": "code",
   "execution_count": 13,
   "metadata": {},
   "outputs": [],
   "source": [
    "query = args [0]"
   ]
  },
  {
   "cell_type": "code",
   "execution_count": 14,
   "metadata": {},
   "outputs": [],
   "source": [
    "if len(args) == 1:\n",
    "    for status in tweepy.Cursor (api.search, q=query+\"-filter:retweets\", lang='en', result_type = 'recent').items(100):\n",
    "        list_tweets.append(status.text)#status is a JSON object in Python\n",
    "    #cursor is another library to fetch tweets"
   ]
  },
  {
   "cell_type": "code",
   "execution_count": 15,
   "metadata": {
    "scrolled": true
   },
   "outputs": [
    {
     "data": {
      "text/plain": [
       "['@MattTessen @2Tweeterbug @Meidas_ZobethC @catturd2 @SeanPenn Google couldnt find any mask that prevent coronavirus. https://t.co/7LHYAE7JV9',\n",
       " '@andylanechapman Pro life people are the worst. especially when all these republicans have no issue killing hundred… https://t.co/D4GjNy2jgM',\n",
       " '@Rtreatwilliams My sister is a background actress. She gets tested almost every week (7 tests for sure) wears a mas… https://t.co/j17EAnLz4A',\n",
       " '@realDonaldTrump You put people at risk with this flippant comment. Many Americans don’t have access to the treatme… https://t.co/sJTp0J2b05',\n",
       " \"@JRubinBlogger @TheoKeith @seungminkim @MittRomney Honestly,where was Judge Barrett's judgement when she decided to… https://t.co/N5S8fC24zF\",\n",
       " '@realDonaldTrump People are upset because you, who paid next to nothing on taxes, who has mocked the virus, made fu… https://t.co/nxhaY8FIsE',\n",
       " '@ZachIsStarDust @kellybook1975 @OregonGovBrown Shes a slacker https://t.co/kmXDHPNGlt',\n",
       " '@_DARKERRED \"The mask you\\'re wearing right now, for example.\" she replied.\\n\\nShe gestured the entire office, the mes… https://t.co/R4ASy6sLvm',\n",
       " 'Just here to say I wear a mask 100% of the time at work (moving company) and 100% of the time when I workout (lifti… https://t.co/blZ1jyS3Rc',\n",
       " 'This is so fucking dangerous. If this is the message he’s sending, he should be charged with murder for every singl… https://t.co/qdBL4zCFvw',\n",
       " '@MarshaKimball10 Some people have a ruling class, not me\\n\\nNo mask\\nNo lockdown\\nNo illegal car tab taxes\\nUndefeated w… https://t.co/RBgkfzWQgz',\n",
       " \"For the sake of your health, please don't listen to the sitting president of the United States. Take COVID-19 serio… https://t.co/N24NoH8HYO\",\n",
       " '@zebdabeb I wasted 2000 on a mask 😭',\n",
       " '@jaketapper I pulled in and saw through the window the guy had no mask on. I pulled out, I could see him waving to… https://t.co/fSfak95I48',\n",
       " 'Good Design: A Review of the Apple Face Mask https://t.co/kotzC40Xa7',\n",
       " \"@Herofthewords I've seen the same pattern in Brussels, particularly with the nose outside of the mask thing.\",\n",
       " '#AirlineNews #Airportnews #AviationNews #BreakingTravelNews Flyers Rights: DOT’s refusal to promulgate mask rule ‘h… https://t.co/bb1yJze3W6',\n",
       " '@realDonaldTrump If mask work how were they in any more danger than doing their normal job? I’m so confused right n… https://t.co/bgpWwW6BWK',\n",
       " 'Study: For Top Safety, Wash Homemade Face Masks https://t.co/3fdVPVMpBO',\n",
       " '@Bryan_Wall They had two words to get right, mask &amp; vaccine, sigh. https://t.co/5E35Fn3kET',\n",
       " '@realDonaldTrump Wow - don’t take care is what he’s saying \\n\\nHe’s pretending he acted to protect us And still is no… https://t.co/D5H2wIjWQM',\n",
       " 'https://t.co/UQmMzNnEDt… I’ve been using the 3-piece kit (Be Relentless oil, Know Thyself cream, &amp; Supernal mask &amp;… https://t.co/u3TTK0O2B1',\n",
       " '@SecPompeo Jw Satanist’s prophet-#trump ?\\nJw Satanist’s Moshiach #JeredKushner ?\\n\\nJudaism is the mask of Jw Zionis… https://t.co/jIj1KpSDs2',\n",
       " '@AmericanGr8ness @detroitnews Do I have to wear a mask on my boat, Gretchen? Can your hubby put it in for me? I do… https://t.co/i9qdErJRMW',\n",
       " \"@Kiss_My_Mask @HOBrien_Author @TammieMcDonal17 As long as she doesn't sneak up behind me !\",\n",
       " \"@Mad_Max235 @DarikClevinger Is that realistic? Aren't they now committed to a nationwide mask mandate (not really c… https://t.co/IXFo8m5xFV\",\n",
       " '@FactsOnlyPls @shannonrwatts @HunterJCullen You can see how the mask of hysterical cheerfulness slips from her bats… https://t.co/Pcc4idfci1',\n",
       " '@realDonaldTrump So is this saying from this day forward, all COVID patients will have the same access to top medic… https://t.co/14C7AkP4Yh',\n",
       " 'Get my art printed on awesome products. Support me at Redbubble #RBandME:  https://t.co/4vA3M7nfZw #findyourthing #redbubble',\n",
       " \"Did a mask on my face and it's HELLA SMOOTH RN\",\n",
       " 'says the one who downplayed the virus resulting in 250,000 lives lost, locked innocent Hispanics in cages, increase… https://t.co/nXYUrjShls',\n",
       " '@lack_of_energy @Olivianuzzi @chrislhayes “When will all these preachers see the obvious sign”\\nDoes he get in his c… https://t.co/tipH0RfUsF',\n",
       " \"@oSoEclectic @Sh1nning @familyunequal @realDonaldTrump He's protecting others, idiot. like in EVERY SINGLE STORE ho… https://t.co/u4u9ztIaxI\",\n",
       " 'Please protect yourself against #COVID19. Please wear a mask, social distance and wash your hands. COVID19 has kill… https://t.co/HTSgmotvg5',\n",
       " 'Here we go. This will be his message—don’t be afraid, don’t worry about a mask. All his supporters are going to get… https://t.co/nIbz8uwy9q',\n",
       " \"Glad he's feeling better.  Wear a mask! https://t.co/BKvw3wywwB\",\n",
       " '@chrislhayes Virtual only, too risky even with a mask or divider',\n",
       " 'pain is taking off your mask and pulling ur piercing',\n",
       " 'WHY DOES MY LANDLORD THINK HE CAN CASUALLY WALK INTO MY PLACE WHENEVR HE WANTS WITHOUT A MASK GOD NEBRASKA IS UGLY',\n",
       " '@MrsZOT @PressSec Jesus sees the wanton disregard for social distancing and mask wearing by this administration. Th… https://t.co/ZWOWfgeXvX',\n",
       " '@PressSec You’re contagious yet you still remove your mask to answer questions. BAD FORM &amp; BAD OPTICS!',\n",
       " \"I won't lie, it's a little creepy when you see someone wearing a mask with their hood on👀\\n\\n👀👀👀👀👀👀👀👀👀👀👀👀👀👀👀👀👀👀👀👀👀👀👀👀👀👀👀👀👀👀👀👀👀👀👀👀👀👀👀👀👀👀👀👀👀👀\",\n",
       " '@Bobwils21138975 @TheAdamGoldberg Not reaching in the least.\\n\\nThe advisories are literally:\\nWear a mask.\\nAvoid encl… https://t.co/XOIoaYfDXM',\n",
       " \"@TheRealSteveWI @GretaLWall @OANN @PressSec Without a vaccine we're all going to get it. With a vaccine,  most of u… https://t.co/iw3IhMtaNR\",\n",
       " '@SenSchumer Where is your mask Chuckie? Stop the fear porn!!!! And above all, stop the lying Chuckie!!!',\n",
       " '@NYGovCuomo Thank you for not closing nonessential businesses in hard hit covid areas and bringing up stronger enfo… https://t.co/iJwooi48NT',\n",
       " '@jaketapper @AJDelgado13 Everything looks good except the logo on your mask. Washington Football club!!’',\n",
       " '@JeffBezos @TDBank_US @LeviticusFund @Westhab1981 @WesthabInc @Facebook @AOC @RepAOC @RichWesthab @NPWestchester… https://t.co/UgExur5I1C',\n",
       " 'What a boob. If you don’t wear a mask when alone, then you’re not an adult. Does he wear one to bath or to sleep in… https://t.co/04jHYj6IPU',\n",
       " '@RoKhanna As long as that sink has a mask and a 14 day isolation first.',\n",
       " 'Just because you’re wearing your mask correctly doesn’t mean I didn’t just see you fist your right nostril and not… https://t.co/N1LfVtAGEV',\n",
       " 'The White House responds to “confusion” about Ivanka Trump not wearing a mask during the debate by...confirming Iva… https://t.co/tUboDXO0yf',\n",
       " '@CLH45 @IvankaTrump Is she an idiot? Does she realize a mask isn’t like a vaccine - you don’t wear it once and it p… https://t.co/WnNiRlF6gl',\n",
       " '@KamalaHarris Don’t need to wear one inside your house or when no one else around outside; wear your mask smartly.',\n",
       " '@emilyfavreau Last year when hundreds of thousands died due to influenza were you wearing a mask then too?',\n",
       " '@seanhannity She can’t. She’s getting her hair done without a mask. But that’s ok',\n",
       " \"Resurrecting this for no particular reason\\n\\n@senatemajldr @SenJoniErnst don't actually wear a mask\\n@SenRickScott re… https://t.co/FrOYBh4Ww4\",\n",
       " '@theoryofevil @ecgroom @Packard17 @curtisisbooger 🙄Im just saying he is wearing the best mask and theres way to  di… https://t.co/l6dsBd2atf',\n",
       " '@jdouglaslittle @Linzee_Pinzee @RobinsCarrie @fordnation What you need is a clown 🤡 costune not a mask.',\n",
       " '@Acosta that is because you just received an experimental drug that insurance does not coverage, nor can the averag… https://t.co/aBwbyenjNW',\n",
       " '@PressSec Do you just hate America not wearing a mask when you have Covid? Spreading it to the press. Is that your… https://t.co/VH3Yvh9JZe',\n",
       " 'every time I put on a mask ion smell nothing but that green',\n",
       " \"@scalzi I try and lift my mask, tuck my head, and sneeze under my shirt. Still gross, but at least my mask isn't icky.\",\n",
       " \"The 🎃 GREAT 🎃 PUMPKIN(s) 🎃  have arrived! One is placed at St. Anne's Church, another at Hopkins Square and a third… https://t.co/nrF42A89QP\",\n",
       " \"@Roxylives1 @lansinggal1 @Thomas1774Paine Some of this doesn't make sense. LEO don't need them but kids sports need… https://t.co/i0pfrc8TAv\",\n",
       " '@INTERNETFAIRY Wtf is that mask though',\n",
       " \"@TruthOptimistic @MajorPatriot Q: Do you wonder why the manufacturers won't put on there packaging that mask can st… https://t.co/IUbX6qphLb\",\n",
       " \"@MattWolking @DonaldJTrumpJr You're hilarious &amp; sad. Trump couldn't even move his hand to put on a mask &amp; save live… https://t.co/iIaCmI7Vtb\",\n",
       " '@benstracy @AndrewLearned Refuse any interaction with WH, unless person is wearing a mask',\n",
       " \"@LarsLarsonShow Seriously? You're comparing the risk of wearing a mask and keeping distance in day to day activitie… https://t.co/lMJl1Il3Km\",\n",
       " \"@mikecane @T_dot_Lee_PhD @oliverbruce Our hospitals demand disposable face masks. They're fine with handing you one… https://t.co/YwMCJxusZu\",\n",
       " '@arun_richards @Chirodoc19 @nytimes It’s just a better mask dude. The regular ones work too. Stop trying to justify the fascist’s stupidity.',\n",
       " '@MrsAitchBee @PippaCrerar Guess what I did today? I wore an ordinary flimsy mask as a liner and your pussy cat one… https://t.co/7AeO8aZgob',\n",
       " '@concerned_b @catturd2 @Vic521Vickie I had the virus. Worst health scare I’ve ever went through. Wear a mask and so… https://t.co/gX838srU3W',\n",
       " 'Mailing my #MomsVote voting reminder postcards today encouraging moms and everyone to VOTE! And wear your mask!… https://t.co/x6Fq6zqMga',\n",
       " 'Soccer “camps” start this week and every week in October.\\nTuesday (girls)\\nWednesday (boys)\\n3:30-5:30 @ baseball fie… https://t.co/bggbGGvDX7',\n",
       " 'Just saw somebody on my local village Facebook group post anti mask bullshit from a diehard trump supporter. The po… https://t.co/gYrDcImXrI',\n",
       " '\"Don\\'t be afraid\"\\n\\nSo does that mean not to wear a mask? Because it may help others if they were advised to wear ma… https://t.co/KVJiZsBz9k',\n",
       " '@doctorevil10 @JuddLegum Do you recommend Feinstein walking through an airport without a mask? https://t.co/Hom5Crrwz2',\n",
       " '@VLOGGUN You’re gorgeous 🥺 💕and your mask is so cute wth😔',\n",
       " 'Does this mean you will be wearing a mask from now on? Oh never mind I thought I was replying to a man with a brain https://t.co/2mEUgyqm6n',\n",
       " 'Amen! All the glory be unto God for your healing!upgrade your mask to a N95.We Love you Mr President 🙏❤️🇺🇸 https://t.co/Y31yLMuHDY',\n",
       " '@JoshKB @Disposable_T_ @GMB @kategarraway @piersmorgan @susannareid100 He had a mask on, you know, the thing that s… https://t.co/E0mTtVOVFb',\n",
       " 'School: kids will be fine their smart they know how to wear a mask \\n\\nThe kids: https://t.co/hdmgbJeynR',\n",
       " '@StudentOfEth ah, well, have i got news for you https://t.co/9VM07uSHL1',\n",
       " \"@MorganJD77 If you're exercising and you sweat into the mask then yes, because you're basically holding a wet cloth… https://t.co/5UQjU0FVJL\",\n",
       " '@nationalpost \"Lana Del Rey under fire for wearing a mesh mask\"\\n\\nWhy?  It\\'s equally effective as the masks everyone else is wearing.',\n",
       " '@benstracy I assume you were wearing a mask at all times; not just when the cameras were on. If that’s the case, yo… https://t.co/T6dvBmwyuA',\n",
       " \"Sorry Folks, but Jesus ain't Healing Nobody with CoronaVirus!\\nNever Has &amp; \\nNever Will!!!\\nBut if it makes you feel b… https://t.co/aTy04CATX5\",\n",
       " 'Right. Just image if this thing behave like HIV, and the only way to stop it or slow it down was to wear a mask or… https://t.co/MPVHJGU4KA',\n",
       " '@realDonaldTrump Do an in person press conference without a mask every day until election!',\n",
       " 'How long do you think it will be until  we won’t have to wear mask ?',\n",
       " '@DrewHeskett @meenaharris @DrBiden @JoeBiden you know she under that mask mouthing “back the fuhhhhhh up”',\n",
       " 'we r 7 months into this shit and ppl still don’t understand that their mask goes over their nose 😐',\n",
       " '@intheboombox @PressSec Twelve known victims of the #trumpvirus in the White House thanks to the \"no mask\" arroganc… https://t.co/ZVUdwdE6zd',\n",
       " '@reggieaqui IOW, wear a mask. Always.',\n",
       " 'it’s the using native american headpieces for aesthetic, dating a cop, hillsong church attender, pro israel, wearin… https://t.co/AM0mdHQpqt',\n",
       " 'bro i CANNOT wait to wear my new shark mask to work today 😤',\n",
       " 'I had to wear a mask before a brain surgery and couldn’t have anyone in pre-op. This clown is signing blank papers… https://t.co/OKyOLA1p1l',\n",
       " '@SpeechNana @realDonaldTrump But he was wearing a mask. That means they are safe. If not , there is a contradiction.']"
      ]
     },
     "execution_count": 15,
     "metadata": {},
     "output_type": "execute_result"
    }
   ],
   "source": [
    "list_tweets"
   ]
  },
  {
   "cell_type": "code",
   "execution_count": 18,
   "metadata": {},
   "outputs": [],
   "source": [
    "wpt=nltk.WordPunctTokenizer()"
   ]
  },
  {
   "cell_type": "code",
   "execution_count": 22,
   "metadata": {},
   "outputs": [],
   "source": [
    "stop_words=nltk.corpus.stopwords.words('english')"
   ]
  },
  {
   "cell_type": "code",
   "execution_count": 23,
   "metadata": {},
   "outputs": [],
   "source": [
    "def normalize_docuement (doc):\n",
    "    #lowercase and remove special characters\\whitespace\n",
    "    doc=re.sub(r'[^a-zA-Z\\s]', '', doc, re.I|re.A) #re.I ignore case sensitive, ASCII-only matching\n",
    "    doc=doc.lower()\n",
    "    doc=doc.strip()\n",
    "    #tokenize document\n",
    "    tokens=wpt.tokenize(doc)\n",
    "    #filter stopwords out of document\n",
    "    filtered_tokens=[token for token in tokens if token not in stop_words]\n",
    "    #re-create documenr from filtered tokens\n",
    "    doc=' '.join(filtered_tokens)\n",
    "    return doc"
   ]
  },
  {
   "cell_type": "code",
   "execution_count": 24,
   "metadata": {},
   "outputs": [],
   "source": [
    "normalize_corpus=np.vectorize(normalize_docuement) #Basic preprocessing pipeline is ready, we apply our sample corpus"
   ]
  },
  {
   "cell_type": "code",
   "execution_count": 25,
   "metadata": {},
   "outputs": [
    {
     "data": {
      "text/plain": [
       "array(['matttessen tweeterbug meidaszobethc catturd seanpenn google couldnt find mask prevent coronavirus httpstcolhyaejv',\n",
       "       'andylanechapman pro life people worst especially republicans issue killing hundred httpstcodgjnyjgm',\n",
       "       'rtreatwilliams sister background actress gets tested almost every week tests sure wears mas httpstcojeanlza',\n",
       "       'realdonaldtrump put people risk flippant comment many americans dont access treatme httpstcosjtpjb',\n",
       "       'jrubinblogger theokeith seungminkim mittromney honestlywhere judge barretts judgement decided httpstconsfczf',\n",
       "       'realdonaldtrump people upset paid next nothing taxes mocked virus made fu httpstconxhayfise',\n",
       "       'zachisstardust kellybook oregongovbrown shes slacker httpstcokmxdhpnglt',\n",
       "       'darkerred mask youre wearing right example replied gestured entire office mes httpstcorasyslvm',\n",
       "       'say wear mask time work moving company time workout lifti httpstcoblzjysrc',\n",
       "       'fucking dangerous message hes sending charged murder every singl httpstcoqdblzcfvw',\n",
       "       'marshakimball people ruling class mask lockdown illegal car tab taxes undefeated w httpstcorbgkfzwqgz',\n",
       "       'sake health please dont listen sitting president united states take covid serio httpstconnohhyo',\n",
       "       'zebdabeb wasted mask',\n",
       "       'jaketapper pulled saw window guy mask pulled could see waving httpstcofsfaki',\n",
       "       'good design review apple face mask httpstcokotzcxa',\n",
       "       'herofthewords ive seen pattern brussels particularly nose outside mask thing',\n",
       "       'airlinenews airportnews aviationnews breakingtravelnews flyers rights dots refusal promulgate mask rule h httpstcobbyjzew',\n",
       "       'realdonaldtrump mask work danger normal job im confused right n httpstcobgpwwwbwk',\n",
       "       'study top safety wash homemade face masks httpstcofdvpvmpbo',\n",
       "       'bryanwall two words get right mask amp vaccine sigh httpstcoefnket',\n",
       "       'realdonaldtrump wow dont take care hes saying hes pretending acted protect us still httpstcodhwijwqm',\n",
       "       'httpstcouqmmznnedt ive using piece kit relentless oil know thyself cream amp supernal mask amp httpstcouttkob',\n",
       "       'secpompeo jw satanists prophettrump jw satanists moshiach jeredkushner judaism mask jw zionis httpstcojijkpsds',\n",
       "       'americangrness detroitnews wear mask boat gretchen hubby put httpstcoiqderjrmw',\n",
       "       'kissmymask hobrienauthor tammiemcdonal long doesnt sneak behind',\n",
       "       'madmax darikclevinger realistic arent committed nationwide mask mandate really c httpstcoixfomxfv',\n",
       "       'factsonlypls shannonrwatts hunterjcullen see mask hysterical cheerfulness slips bats httpstcopccidfci',\n",
       "       'realdonaldtrump saying day forward covid patients access top medic httpstcocakpyh',\n",
       "       'get art printed awesome products support redbubble rbandme httpstcovamnfzw findyourthing redbubble',\n",
       "       'mask face hella smooth rn',\n",
       "       'says one downplayed virus resulting lives lost locked innocent hispanics cages increase httpstconxyurjshls',\n",
       "       'lackofenergy olivianuzzi chrislhayes preachers see obvious sign get c httpstcotiphrfusf',\n",
       "       'osoeclectic shnning familyunequal realdonaldtrump hes protecting others idiot like every single store ho httpstcouuztiaxi',\n",
       "       'please protect covid please wear mask social distance wash hands covid kill httpstcohtsgmotvg',\n",
       "       'go messagedont afraid dont worry mask supporters going get httpstconibzuwyq',\n",
       "       'glad hes feeling better wear mask httpstcobkvwwywwb',\n",
       "       'chrislhayes virtual risky even mask divider',\n",
       "       'pain taking mask pulling ur piercing',\n",
       "       'landlord think casually walk place whenevr wants without mask god nebraska ugly',\n",
       "       'mrszot presssec jesus sees wanton disregard social distancing mask wearing administration th httpstcozwowfgexvx',\n",
       "       'presssec youre contagious yet still remove mask answer questions bad form amp bad optics',\n",
       "       'wont lie little creepy see someone wearing mask hood',\n",
       "       'bobwils theadamgoldberg reaching least advisories literally wear mask avoid encl httpstcoxoioayfdxm',\n",
       "       'therealstevewi gretalwall oann presssec without vaccine going get vaccine u httpstcoiwihmtanr',\n",
       "       'senschumer mask chuckie stop fear porn stop lying chuckie',\n",
       "       'nygovcuomo thank closing nonessential businesses hard hit covid areas bringing stronger enfo httpstcoijwooint',\n",
       "       'jaketapper ajdelgado everything looks good except logo mask washington football club',\n",
       "       'jeffbezos tdbankus leviticusfund westhab westhabinc facebook aoc repaoc richwesthab npwestchester httpstcougexuric',\n",
       "       'boob dont wear mask alone youre adult wear one bath sleep httpstcojhyjipu',\n",
       "       'rokhanna long sink mask day isolation first',\n",
       "       'youre wearing mask correctly doesnt mean didnt see fist right nostril httpstconlfvtagev',\n",
       "       'white house responds confusion ivanka trump wearing mask debate byconfirming iva httpstcotubodxoyf',\n",
       "       'clh ivankatrump idiot realize mask isnt like vaccine dont wear p httpstcownnirlfgl',\n",
       "       'kamalaharris dont need wear one inside house one else around outside wear mask smartly',\n",
       "       'emilyfavreau last year hundreds thousands died due influenza wearing mask',\n",
       "       'seanhannity cant shes getting hair done without mask thats ok',\n",
       "       'resurrecting particular reason senatemajldr senjoniernst dont actually wear mask senrickscott httpstcofroybhww',\n",
       "       'theoryofevil ecgroom packard curtisisbooger im saying wearing best mask theres way di httpstcoldsbdatf',\n",
       "       'jdouglaslittle linzeepinzee robinscarrie fordnation need clown costune mask',\n",
       "       'acosta received experimental drug insurance coverage averag httpstcoabwbyenjnw',\n",
       "       'presssec hate america wearing mask covid spreading press httpstcovhyvhjze',\n",
       "       'every time put mask ion smell nothing green',\n",
       "       'scalzi try lift mask tuck head sneeze shirt still gross least mask isnt icky',\n",
       "       'great pumpkins arrived one placed st annes church another hopkins square third httpstconrfaqp',\n",
       "       'roxylives lansinggal thomaspaine doesnt make sense leo dont need kids sports need httpstcoipfrctav',\n",
       "       'internetfairy wtf mask though',\n",
       "       'truthoptimistic majorpatriot q wonder manufacturers wont put packaging mask st httpstcoiubxqphlb',\n",
       "       'mattwolking donaldjtrumpjr youre hilarious amp sad trump couldnt even move hand put mask amp save live httpstcoiiacmivtb',\n",
       "       'benstracy andrewlearned refuse interaction wh unless person wearing mask',\n",
       "       'larslarsonshow seriously youre comparing risk wearing mask keeping distance day day activitie httpstcolmjlilkm',\n",
       "       'mikecane tdotleephd oliverbruce hospitals demand disposable face masks theyre fine handing one httpstcoywmcjxuszu',\n",
       "       'arunrichards chirodoc nytimes better mask dude regular ones work stop trying justify fascists stupidity',\n",
       "       'mrsaitchbee pippacrerar guess today wore ordinary flimsy mask liner pussy cat one httpstcoaeoazgob',\n",
       "       'concernedb catturd vicvickie virus worst health scare ive ever went wear mask httpstcogxsruw',\n",
       "       'mailing momsvote voting reminder postcards today encouraging moms everyone vote wear mask httpstcoxfqzqmga',\n",
       "       'soccer camps start week every week october tuesday girls wednesday boys baseball fie httpstcobggbggvdx',\n",
       "       'saw somebody local village facebook group post anti mask bullshit diehard trump supporter po httpstcogyrdcimxri',\n",
       "       'dont afraid mean wear mask may help others advised wear httpstcokvjizsbzk',\n",
       "       'doctorevil juddlegum recommend feinstein walking airport without mask httpstcohomcrrwz',\n",
       "       'vloggun youre gorgeous mask cute wth',\n",
       "       'mean wearing mask oh never mind thought replying man brain httpstcomeugyqmn',\n",
       "       'amen glory unto god healingupgrade mask nwe love mr president httpstcoyylmuhdy',\n",
       "       'joshkb disposablet gmb kategarraway piersmorgan susannareid mask know thing httpstcoemttvovfb',\n",
       "       'school kids fine smart know wear mask kids httpstcohdmgbjeynr',\n",
       "       'studentofeth ah well got news httpstcovmushl',\n",
       "       'morganjd youre exercising sweat mask yes youre basically holding wet cloth httpstcouqjufvjl',\n",
       "       'nationalpost lana del rey fire wearing mesh mask equally effective masks everyone else wearing',\n",
       "       'benstracy assume wearing mask times cameras thats case yo httpstcotdvbmwyua',\n",
       "       'sorry folks jesus aint healing nobody coronavirus never amp never makes feel b httpstcoatycatx',\n",
       "       'right image thing behave like hiv way stop slow wear mask httpstcompvhjguka',\n",
       "       'realdonaldtrump person press conference without mask every day election',\n",
       "       'long think wont wear mask',\n",
       "       'drewheskett meenaharris drbiden joebiden know mask mouthing back fuhhhhhh',\n",
       "       'r months shit ppl still dont understand mask goes nose',\n",
       "       'intheboombox presssec twelve known victims trumpvirus white house thanks mask arroganc httpstcozvudwdezd',\n",
       "       'reggieaqui iow wear mask always',\n",
       "       'using native american headpieces aesthetic dating cop hillsong church attender pro israel wearin httpstcoammdhqpqt',\n",
       "       'bro cannot wait wear new shark mask work today',\n",
       "       'wear mask brain surgery couldnt anyone preop clown signing blank papers httpstcookyolapl',\n",
       "       'speechnana realdonaldtrump wearing mask means safe contradiction'],\n",
       "      dtype='<U121')"
      ]
     },
     "execution_count": 25,
     "metadata": {},
     "output_type": "execute_result"
    }
   ],
   "source": [
    "norm_corpus=normalize_corpus(list_tweets)\n",
    "norm_corpus"
   ]
  },
  {
   "cell_type": "code",
   "execution_count": null,
   "metadata": {},
   "outputs": [],
   "source": []
  }
 ],
 "metadata": {
  "kernelspec": {
   "display_name": "Python 3",
   "language": "python",
   "name": "python3"
  },
  "language_info": {
   "codemirror_mode": {
    "name": "ipython",
    "version": 3
   },
   "file_extension": ".py",
   "mimetype": "text/x-python",
   "name": "python",
   "nbconvert_exporter": "python",
   "pygments_lexer": "ipython3",
   "version": "3.7.4"
  }
 },
 "nbformat": 4,
 "nbformat_minor": 2
}
