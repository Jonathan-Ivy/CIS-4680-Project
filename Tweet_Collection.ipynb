{
 "cells": [
  {
   "cell_type": "code",
   "execution_count": 2,
   "metadata": {},
   "outputs": [],
   "source": [
    "#A notebook for Tweet Collection by Jonathan Ivy"
   ]
  },
  {
   "cell_type": "code",
   "execution_count": 49,
   "metadata": {},
   "outputs": [],
   "source": [
    "import pandas as pd\n",
    "import numpy as np\n",
    "import tweepy\n",
    "import re\n",
    "import pickle\n",
    "import nltk"
   ]
  },
  {
   "cell_type": "code",
   "execution_count": 4,
   "metadata": {},
   "outputs": [],
   "source": [
    "from tweepy import OAuthHandler #does the job of authenticating our client machine with Twitter server"
   ]
  },
  {
   "cell_type": "code",
   "execution_count": 5,
   "metadata": {},
   "outputs": [],
   "source": [
    "#Now initialize all keys we need, and they should be entered in the form of strings"
   ]
  },
  {
   "cell_type": "code",
   "execution_count": 6,
   "metadata": {},
   "outputs": [],
   "source": [
    "consumer_key = 'fyYq7oF0KxkUdeI2zwGCKV8GQ'\n",
    "consumer_secret = 'Avne5z6Jo2ycAvWA5ZgLqEyz6rDIC9dp2OkIQpQg4zpOZvpG4f'\n",
    "access_token = '3233029615-v2xFc4THm1pXk6OR5DhqXdIjEc8RdJzQNscqgZ1'\n",
    "access_secret='Lq8kBfo3k1BtZW6lFSah06MZhqV6eOyYFeNsguSGAjW1E'"
   ]
  },
  {
   "cell_type": "code",
   "execution_count": 7,
   "metadata": {},
   "outputs": [],
   "source": [
    "#Authenticate Client, because every App we build will have unique keys and secrets\n",
    "auth = OAuthHandler(consumer_key,consumer_secret)"
   ]
  },
  {
   "cell_type": "code",
   "execution_count": 8,
   "metadata": {},
   "outputs": [],
   "source": [
    "auth.set_access_token(access_token,access_secret)"
   ]
  },
  {
   "cell_type": "code",
   "execution_count": 105,
   "metadata": {},
   "outputs": [],
   "source": [
    "#set our search tokens\n",
    "args = ['Mask']"
   ]
  },
  {
   "cell_type": "code",
   "execution_count": 106,
   "metadata": {},
   "outputs": [],
   "source": [
    "api = tweepy.API(auth,timeout=10)#if we don't find any tweets, after 10 seconds API stops looking"
   ]
  },
  {
   "cell_type": "code",
   "execution_count": 107,
   "metadata": {},
   "outputs": [],
   "source": [
    "#Fetch Tweets corresponding to the argument above - top 100"
   ]
  },
  {
   "cell_type": "code",
   "execution_count": 108,
   "metadata": {},
   "outputs": [],
   "source": [
    "#Declare a list\n",
    "list_tweets = []"
   ]
  },
  {
   "cell_type": "code",
   "execution_count": 109,
   "metadata": {},
   "outputs": [],
   "source": [
    "query = args [0]"
   ]
  },
  {
   "cell_type": "code",
   "execution_count": 111,
   "metadata": {},
   "outputs": [],
   "source": [
    "if len(args) == 1:\n",
    "    for status in tweepy.Cursor (api.search, q=query+\"-filter:retweets\", lang='en', result_type = 'recent', tweet_mode='extended').items(100):\n",
    "        list_tweets.append(status.full_text)#status is a JSON object in Python\n",
    "    #cursor is another library to fetch tweets"
   ]
  },
  {
   "cell_type": "code",
   "execution_count": 112,
   "metadata": {
    "scrolled": true
   },
   "outputs": [
    {
     "data": {
      "text/plain": [
       "['Treat yourself (and your skin!) to some pampering by incorporating a couple of rejuvenating steps to your beauty routine.\\nWhy not make add a soothing face mask into your weekly skincare routine? https://t.co/VdIsufAAMV',\n",
       " 'Opinion: The false sense of security derived from wearing a mask incapable of filtering small virus particles causes people to feel comfortable getting closer to others and to speak more forcefully in order to be heard through the mask thus increasing their risk of infection.  😷 https://t.co/Nnxx61XmVf',\n",
       " '@Kperry12284820 @buttonslives @PeteButtigieg We don’t care about your health.  That’s the whole point. We care about our health and the social costs of your driving into a tree. Wearing a mask is about protecting other people.',\n",
       " '@Fiifi02629844 @Lisajayne1965 SHE was the initial aggressor. She should be charged. No mask? Silly and selfish, and ILLEGAL.',\n",
       " '@ultramasx Why should we were a mask?',\n",
       " '@StoriesSteph Thank you! I did have plans to get a better mask with my glasses lenses in but unfortunately it never came to pass as I broke up with the person who was going to 3D print it for me 😅',\n",
       " '@PaulsWalls2 It’s literally just a mask. White people will fume through their ears if they’re even a little inconvenienced, aren’t you guys the crowd that touted businesses have the right to refuse service to anyone for religious reasons like that one bakery? Strict constitutionalists?? 😂',\n",
       " '@TheOnlyGuru @GovJersey @StatesAssembly Don’t make it law.\\n\\nEquip people with the necessary to make an informed decision and encourage people to wear a mask. \\n\\nMaking people law-breakers for not wearing a mask is Orwellian by implication.',\n",
       " 'Did he learn how to give his wife a mani pedi &amp; a herbal face mask at home?,you know....just in case she wants to follow the rules 🙄 https://t.co/gnRDs5ZqhH',\n",
       " 'When you wear a mask in a forest, just make sure it matches your purse.',\n",
       " '@jmweb @IslandersHKY @MitsubishiPEI @Meojdeq @rstgelaisJDQ @KDubeJDQ @EastlinkCtrPEI If they don’t wanna wear a mask I’m sure there are many more season tickets holders who would enjoy being able to go to the rink wear a mask and watch the game live in person , these people who argue about masks really make me sick',\n",
       " 'How are you tryna holla ke apare a doek, a mask n flip flops... if that is not a Do not disturb outfit i dont know what is!!!',\n",
       " 'If you think this is fear-mongering, I want to to evaluate that cynicism while contemplating the latest example from California:\\nhttps://t.co/mRRGttk8xj https://t.co/BwMXRNgdwl',\n",
       " \"I don't have mask — You’ll have a peacefull death then hahaha https://t.co/wLTpfQnhF1\",\n",
       " 'BMC people not use mask while stand beside the road when the see any client the suddenly come start acting',\n",
       " '@EPluribusMarcus @seanfeucht it’s not a mask it’s basically the equivalent of the mesh netting that avocados and clementines are sold in 🙃',\n",
       " \"Stay safe everyone ✨ Don't forget to wear your mask. Keluar bila perlu je 😔\",\n",
       " 'Also mask is inspired by @/Alexxuun_ ♥️♥️',\n",
       " \"Scuttlebutt:\\n\\n* Campus security have been advised not to try to disperse groups of students and just call the police\\n* Not wearing a mask in uni buildings can officially be escalated to their school's disciplinary board\\n* It's maybe a £250 fine for not wearing a mask?!\",\n",
       " '@lipiroy @reneecrichlowMD @maddow He’s thinning the herd. Say nothing. Wear a mask and don’t talk to your MAGAhat wearing neighbors',\n",
       " \"New learning: face shield, mask and rain don't go well together.\",\n",
       " 'Fauci says it might be time to mandate masks as Covid-19 surges across US - CNN https://t.co/HIMUuxqyOV',\n",
       " '@CNN Nothing IS opening up with mask use...THAT’S the problem. If masks work, EVERYTHING should be open. Masks and a continual shutdown is not ok.',\n",
       " '@obhsfan @ASE Wow, patty.  Please leave analysis to those with a clue.  Ask yourself why these lockdowns are necessary to begin with and which party/political belief system are aggravating these circumstances. Trump and his group of flunkies are blamed for this, not the mask wearing crowd',\n",
       " '@_chloehx_ And the mask goes orange and drives me nuts when it leaves a patch on your nose 😂',\n",
       " 'just a side note: i’ve ordered the swu face mask and it’s horrible. the material is the worst. i don’t recommend getting a face mask from ariana’s website :(',\n",
       " 'Now in war\\n\\nPut the mask on.\\nJust like when you wear a bulletproof vest \\nwhen you go into war..\\n\\n#Covid_19 #StaySafe',\n",
       " '@dd42433071 @nytimes Yeah, the goal is to avoid finding out what that number might potentially be. Doesn’t really matter what the projection is, let’s just mask up and avoid whatever it’ll be',\n",
       " '@MarkOwenSTAR Danielle, Get your butt up and out! Don’t wear a mask either. Just get out. See if there are any KBF meetups in your area, you’ll meet lots of likeminded people. 😁 Cheers! (from a Yank😉)',\n",
       " 'thinking abt how my store manager is probably republican and how her husband’s a cop and refuses to wear a mask makes me wanna quit more tbh',\n",
       " 'Full of praise for Jess @DavidLloydUK in Cheadle as she patiently explains over and over again that you do need a mask to get to your table in the club room and the many other tier 3 rules that members are challenging her with !',\n",
       " 'Canada — let’s beat COVID together. Wear a mask, practice physical distancing, and download the COVID Alert app where available. The more of us who take simple precautions like these, the safer we all will be. https://t.co/IfdI6pY2wl @GlblCtznCAN',\n",
       " '@beds_villafan Well if you lived where I am you wouldn’t be over it!! I’m at my local non league footy later. They are gonna have my life. Maybe they won’t recognise me in my mask 😆',\n",
       " '@SabeehaMajid The ones who say \"I don\\'t need to wear this mask because I didn\\'t get Covid\" \\nYeah Allah protected you the first time but what if you did something the day you went out and it angered Allah? \\nPeople who\\'ve been responsible, must keep it up.',\n",
       " \"@nytimes This randomized clinical trial says you're more likely to get sick wearing a cloth mask than no mask.\\n\\nhttps://t.co/qGc7B4p0Do\",\n",
       " '@TheLlamaGod That battle mask does not see enough love.',\n",
       " '@many_myles_away I haven’t but I was at a restaurant and saw 2 people on a date and they were literally yelling to talk because neither of them wanted to take off their mask. 🤣🤣',\n",
       " \"@rachy_rach20 @JoeBiden Canada has 9800 covid deaths. The population of the USA is 10x bigger than Canada's so America should have 10x as many covid deaths. 10x9800=98000. If he told people to try to stay apart, wear a mask in crowded areas and use hand sanitizer 127,000 lives would have been saved.\",\n",
       " 'ji changmin said \"wear your mask!\" https://t.co/iIzYwmGAZu',\n",
       " 'Coronavirus \\n\\nStricter rules need to be put in place.\\n\\nThe ARMY can offer assistance.\\n\\nAnyone leaving their home and don’t wear mask, unless they have valid reasons, they should be instantaneously fined.\\n\\nNo excuses.\\n\\nLives are dependent on prevention rather than hopeful of cure.',\n",
       " 'We’re relaunching @_LIVURBN TONIGHT!! 🔥🔥\\n\\nObviously we need the best lineup for this!! Expect: \\n@sithelo x @djmeechsa x @stankydeejay_sa x @jnr_b\\n@hands_dj \\n\\nASIYENI! NO MASK NO ENTRY ⛔️ \\n\\n#LIVSaturdaySociety https://t.co/MPnmnDSeMs',\n",
       " '@DrSubhasree @ArogyaAndhra @AndhraPradeshCM @MoHFW_INDIA @DrArjasreekanth @DrVinodKumarV1 Do not stigmatize, spread love, wear mask',\n",
       " '@hockeymomneal @TheMurphstar @nytimes Matt where is ur mask?  U aren’t wearing it buddy, kinda hypocritical.  Love Jack Tripper xoxo',\n",
       " 'Useful makeup and skin tips is this mask-wearing era - https://t.co/zP6hBmfzN2 https://t.co/Hu6Okls52P',\n",
       " '@1mickeycross Got a MEME for that one... They LOVE this MEME! \\nMade this a while ago. \\nNifty catch phrase too!\\n\"Mask It Or Casket!\"\\n\\nPretty self explanatory... https://t.co/fHqoYSSHus',\n",
       " '@BarbaraKJanik Our cases in France are starting to soar again, cuase people got sloppy over the summer, so masks are mandated everywhere. No mask = 135 euro fine first offence. Grows much larger after that.',\n",
       " '@KSuzanneG @apoorva_nyc @stevesilberman If someone told me I was going to have to do something \"mature, selfless and doing your part,\" I\\'d be feeling nervous I was in for something WAY harder than wearing a mask.',\n",
       " \"@TalieDelemere Avoiding people and mask wearing has probably helped. I'm wondering if the Covid guidelines are going to reduce the flu cases this year\",\n",
       " 'Overnight skincare regimes are a time saving and super effective way to improve your skincare game.\\nDoes anyone use an overnight face mask? Tell me all which one! 😴🛌\\n#SkinHealth #SkincareGoals #Avon https://t.co/NdNKALGxq4',\n",
       " '@trishayearwood Why are you wearing a mask in the car?? 🤷\\u200d♂️  PS if I vote for @garthbrooks as an ‘entertainer’ will he perform live or play a record???',\n",
       " 'Dr. Fauci, the only sane one: https://t.co/Dztutn4OTl',\n",
       " '@ScottWapnerCNBC To think Europe with all its locked downs and mask wearing has more daily cases then the USA.',\n",
       " 'I am digging that mask though, you look so...still adorable actually 🤣\\n#cambrianperiod https://t.co/Y0xmlY56xd',\n",
       " 'Mask smellin like a pumpkin',\n",
       " 'WEAR A MASK. https://t.co/JNAyAQqTHH',\n",
       " '@Bill43111 @DrMarcSiegel @realDonaldTrump QUOTE; (2020) \"...people should not be walking around with a mask, it might make people feel a little bit better and it might block a droplet, but it\\'s not providing people the perfect protecting that people think it is and often there are other consequences....\" Dr. A. Fauci',\n",
       " 'Red Day of the Dead #Redemption \\n\\nMasquerade Mask $150 from #madamnazar \\n\\nJaw Bone Knife - 30% off at Gunsmith $73.50\\n\\nPainted Ram Mask &amp; \\nRipper Emote #HallloweenOutLawPass\\n\\n#MissCandyLicious #ButterOnYa \\n#RedDeadHalloween #SweetAsPhotos #NoFilters  #RedDeadOnline #RockstarGames https://t.co/XT7jY9jkJ6',\n",
       " '@nytimes Telling people they will be safe if they wear a mask is cruel. They won’t wear it properly and will touch it and move it and stick it in their pockets making it MORE probable to introduce virus and bacteria into the respiratory system. Masks DONT work.',\n",
       " '@charlie_mas @human_grateful @SWAtlasHoover @realDonaldTrump I have exactly 19 more story’s saved in my phone about masks making people sick, but twitter prevented me for sharing. But those are just antidotes. Look up OSHA guidelines to see the requirements for mask use to see the bigger picture',\n",
       " '@barstoolsports Bringing in Antonio Brown to help mask how bad Brady’s playing. This team looks desperate.',\n",
       " 'Remember back in grammar school those class pictures. Wondering if the students will be wearing masks for those pictures. They should. They mark a point in time and what is more important than wearing a mask? https://t.co/kCC90d7NDh',\n",
       " 'Treat yourself (and your skin!) to some TLC by adding some rejuvenating steps to your beauty routine.\\nWhy not make incorporating a soothing face mask into your weekly beauty routine? https://t.co/Z21knfTJ5I',\n",
       " \"@Acosta Most of the 230000 dead Americans are  probably trump non mask covid deniers.\\nThey can't vote so that's a plus....\",\n",
       " '@EricBoehlert No mask=Attempting Suicide',\n",
       " '@GOP Sounds like lots of stuff he forgot to do in the past four years while he was focused on schemes to steal our nation’s wealth. Also a moon base. \\n\\nHow about an easy one: wear a mask as an example of safe behavior?',\n",
       " '@Strachan_Africa @bogacyenal @DrEricDing Even within the medical community, who should know better than anyone, there is a large number who are anti mask and treat this like it is a hoax. They may be the most dangerous of all of them when it comes to misinformation spreading',\n",
       " '@CHIZMAGA Unless you don’t routinely cover your face when you sneeze or talk in ordinary conversation like a Broadway actor projecting his voice to be heard in the last row, a cloth mask is mostly for show.',\n",
       " \"Except that the states where it is surging the most already have mask mandates. But don't let the turth get in the way.\\n\\nHey @DrEricDing - I'm enjoying your @JoeBiden TV ad that is running endlessly in Florida. You're totally a competent scientist and not at all a political shill https://t.co/MPvXr07swS\",\n",
       " \"i would buy this mask\\nbut I'm afraid that when it reaches me, the pandemic will end https://t.co/u0XmdSgF5j\",\n",
       " '@DavMicRot Which is completely inline with usual stats for this time of year, every year, more people get the flu, more people die during fall and winter unfortunately, fuck all to do with mask wearing.',\n",
       " 'Then, before heading into a store, I put on a face shield over the mask. The grocery store has become VERY lax with Covid-19. We need to assume responsibility to prevent further spread, as the numbers rise. https://t.co/jV0FCuEdws',\n",
       " 'the mask prompt was \"carnival mask\" so i deliberately picked one of my fave venetian carnival masks, just edited it a bit for the sake of Stylishness. she is also 180cm tall. Lean but muscular. Called \"the carver\" due to her habit of carving her victims viciously',\n",
       " \"Don't you wonder looking this picture, who is the ONLY woman, sitting and with a mask at the Oval Office? She should be someone, don't you think? \\n\\n#US #Picture #OvalOffice #Trump #President\\n\\nhttps://t.co/zUmqTjujgo\",\n",
       " 'Mooncat Mask of Sorrow \\nTime to judge the sins.\\n#MooncatWorld #Mooncatworldfineart #mooncatstore #dia #diacelinwork #berber #Mooncat #mooncatart #paintingoftheday @ Nyon, Switzerland https://t.co/p84pdl5P7B',\n",
       " \"A mask in the shape of a lion's head that moves from side to side occasionally when worn, yet the wearer experiences no change.\",\n",
       " 'I am rolling out to a show today in NJ with @Threat2SocietyHC @DepartedNJ @GlovesOffPahc @SilenceEqualsDeath @LifelessHC @Faded_Line2020 and @Grimthinker_NJ. Been a while, wear a mask and stop by and say hi to me if you are there.\\n\\n#PatientZeroRecords #NewJerseyHardcore #NJHC https://t.co/eLgPBkIxgd',\n",
       " 'Voting in a Covid Pandemic: Wear a Mask and Bring Your Own\\xa0Pens https://t.co/EOUZzDGHSb',\n",
       " '@Bassetsapair @loriamontgomery @_cingraham I will never understand why people wear a stupid mask that CANNOT save the lives of themselves and others.\\n\\nYou’re problem David.',\n",
       " '@Lgotahusky Hospital please. Mask on.',\n",
       " 'stay safe everyone ☹️ wear ur mask &lt;3',\n",
       " '@kirtida81 @DrEricDing Avoid these Wrong Mask-Wearing Techniques\\nHere are some incorrect mask-wearing techniques to stay clear of\\nRochester Regional Health Jul 14 2020\\n\"A mask should completely cover the nose and mouth and should be tight around the ears or head for a snug fit.\"\\nhttps://t.co/4Ul9gXC7Am',\n",
       " 'Twitter while you work:  remember #Biden is a jerk! Clean your hands, wear a mask, and social distance when you can. #Tump is going to win, over and over again and again so, relax and enjoy you day! Christmas is on the way. Holiday spirits are here to stay! https://t.co/IYwOuYIC8p',\n",
       " '@DianeMariePosts We also have a PM that makes a strong effort to practice what he preaches - unlike the Cons like O’Toole, Kenney &amp; of course good old Scheer who don’t bother wearing a mask even in well marked areas requiring them (airports), or abiding by the 2 week quarantine (MR). So Trumpian.',\n",
       " 'If anyone vapes, it would be an interesting experiment to compare how far exhaled vapour travels normally with how it spreads if you put a face mask on. (Might be too uncomfortable an experience with cigarette smoke.)',\n",
       " '@NBCNews A mask is not a sign of fear. A mask is a sign of caution.',\n",
       " '@tehseenp @mvadera why you wear tricolour mask tehseen? respect our flag bro',\n",
       " '@chiamotorracing thank you for the mask 🙏❤ https://t.co/RD8lz4DFnh',\n",
       " \"@laurenCfordz @woodsharp @ThisisDavina Start the ball rolling Lauren......in any small way you can....I refuse to wear a mask now.....I just lie &amp; say I'm exempt.....small thing but really empowering.....if a bit frightening the first time I did it.\",\n",
       " \"You should wear a mask right now - &amp; that shouldn't be a question - whether independent, democrat or republican. This is not a political question &amp; it shouldn't be turned into one. That's Dr. Fauci's message - &amp; it's the correct message.  https://t.co/n5ELTqVjxf\",\n",
       " 'Baby mask\\nFor sale\\nNever worn',\n",
       " '@pinoyboyslove I want.. kaso only in the PH pa lang ang mask ee 😭',\n",
       " \"@Free_Media_Hub @marklevinshow @realDonaldTrump Nope - uncharted territory for everyone/anyone on the planet. Are you wearing a mask ? It's  a first for me. https://t.co/GkVOllL4e9\",\n",
       " \"@Lazertrade @BigJoeBastardi That's bs. People should be responsible for themselves. The government should stay out of it. Personally I think all these covered rules likely violate constitutional rights. You want to wear a mask, fine, you want to stay home fine, just don't make me.\",\n",
       " 'Mn bovenlip zweet zo erg door mn masker but you can’t see cause I’m wearing my mask ☺️✨',\n",
       " 'Which face mask should I use?',\n",
       " \"Good morning from Edmonton, Alberta! Wishing everyone a wonderful Saturday wherever you are and whatever you have on your plate to be done today.  Wear a mask if you go out and about. Keep warm if you're in cold climes. Enjoy the sun. 🙏\\n\\nPhoto by @sameer.design https://t.co/QKxZLHF9jJ\",\n",
       " \"Of all the twisted things in Majora's Mask, I think Pamela's father transforming into a Gibdo is probably the most disturbing.\\n\\n#LegendOfZelda #MajorasMask #Nintendo64 https://t.co/NOiX8khPoZ\",\n",
       " '@DanRather Mask It or Casket It.',\n",
       " 'Who’s wearing a mask on Halloween 🎃',\n",
       " '@jnr_b_ \\n@hands_dj \\n\\nHOSTED BY : \\n@zolazeelovin \\n\\n17 Grantham Place Durban\\n\\nTable Bookings Essential :\\n(072) 489-3032\\n\\nTrading time - 6pm to 12pm \\n\\nSTRICTLY \\nNO FLATS / SNEAKERS FOR LADIES \\nUPSCALE FOR GENTS \\n\\nBrought to you by @ghmumm_sa\\n\\nNB* NO FACE MASK NO ENTRY https://t.co/5zQfyvONvW']"
      ]
     },
     "execution_count": 112,
     "metadata": {},
     "output_type": "execute_result"
    }
   ],
   "source": [
    "list_tweets"
   ]
  }
 ],
 "metadata": {
  "kernelspec": {
   "display_name": "Python 3",
   "language": "python",
   "name": "python3"
  },
  "language_info": {
   "codemirror_mode": {
    "name": "ipython",
    "version": 3
   },
   "file_extension": ".py",
   "mimetype": "text/x-python",
   "name": "python",
   "nbconvert_exporter": "python",
   "pygments_lexer": "ipython3",
   "version": "3.7.4"
  }
 },
 "nbformat": 4,
 "nbformat_minor": 2
}
